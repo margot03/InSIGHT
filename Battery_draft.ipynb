{
 "cells": [
  {
   "cell_type": "code",
   "execution_count": 1,
   "id": "awful-exception",
   "metadata": {},
   "outputs": [],
   "source": [
    "## Libraries\n",
    "%matplotlib inline\n",
    "import math\n",
    "import numpy as np\n",
    "import matplotlib.pyplot as plt\n",
    "import pv_model_class\n",
    "import cvxpy as cp\n",
    "import pandas as pd"
   ]
  },
  {
   "cell_type": "code",
   "execution_count": 2,
   "id": "signed-issue",
   "metadata": {},
   "outputs": [],
   "source": [
    "# Constants and variables\n",
    "\n",
    "Iscn = 8.21 #8.7 # nominal short circuit current\n",
    "Vocn = 32.9 #37.7 # nominal open circuit voltage\n",
    "Imp = 7.61 #8.2 # array current at MPP\n",
    "Vmp = 26.3 #30.1 # array voltage at MPP\n",
    "Pmax_e = Vmp * Imp # experimental array max power output\n",
    "Kv = -0.123 #-0.32/100 * Vocn # voltage temperature coefficient\n",
    "Ki = 0.0032 #-0.032/100 * Iscn # current temperature coefficient\n",
    "Ns = 54 #60. # number of series cells\n",
    "Gn = 1000. # nominal irradiance\n",
    "G = Gn\n",
    "Tn = 25. + 273.15 # nominal operating temperature\n",
    "T = Tn\n",
    "\n",
    "Egap = 1.8 * 10 ** -19 # Bandgap of silicon (silicio cristalino)\n",
    "\n",
    "err = 0.0001\n",
    "inverter = 0.95\n",
    "array_dim = [1, 1]"
   ]
  },
  {
   "cell_type": "code",
   "execution_count": 3,
   "id": "smoking-marketing",
   "metadata": {},
   "outputs": [
    {
     "name": "stdout",
     "output_type": "stream",
     "text": [
      "\n",
      "The optimal value is -15.220912605552861\n",
      "A solution x is\n",
      "[-1.10133381 -0.16360111 -0.89734939  0.03216603  0.6069123  -1.12687348\n",
      "  1.12967856  0.88176638  0.49075229  0.8984822 ]\n",
      "A dual solution is\n",
      "[6.98805172e-10 6.11756416e-01 5.28171747e-01 1.07296862e+00\n",
      " 3.93759300e-09 2.30153870e+00 4.25704434e-10 7.61206896e-01\n",
      " 8.36906030e-09 2.49370377e-01 1.30187120e-09 2.06014070e+00\n",
      " 3.22417207e-01 3.84054343e-01 1.59493839e-09]\n"
     ]
    }
   ],
   "source": [
    "### Linear Program Example\n",
    "\n",
    "m = 15\n",
    "n = 10\n",
    "np.random.seed(1)\n",
    "s0 = np.random.randn(m)\n",
    "lamb0 = np.maximum(-s0, 0)\n",
    "s0 = np.maximum(s0, 0)\n",
    "x0 = np.random.randn(n)\n",
    "A = np.random.randn(m, n)\n",
    "b = A @ x0 + s0\n",
    "c = -A.T @ lamb0\n",
    "\n",
    "# Define and solve the CVXPY problem.\n",
    "x = cp.Variable(n)\n",
    "prob = cp.Problem(cp.Minimize(c.T@x),\n",
    "                 [A @ x <= b])\n",
    "prob.solve()\n",
    "\n",
    "# Print result.\n",
    "print(\"\\nThe optimal value is\", prob.value)\n",
    "print(\"A solution x is\")\n",
    "print(x.value)\n",
    "print(\"A dual solution is\")\n",
    "print(prob.constraints[0].dual_value)\n",
    "\n",
    "\n",
    "## use '@' when doing multiplication between vectors and matrices -- turns them into scalars\n",
    "## use '*' when doing multiplication between scalars and vectors or matrices"
   ]
  },
  {
   "cell_type": "markdown",
   "id": "first-anger",
   "metadata": {},
   "source": [
    "## Helpful links:\n",
    "1. https://www.cvxpy.org/tutorial/functions/index.html\n",
    "2. https://www.cvxpy.org/examples/basic/linear_program.html\n"
   ]
  },
  {
   "cell_type": "markdown",
   "id": "hollywood-uncle",
   "metadata": {},
   "source": [
    "# charging constraints\n",
    "p_cha >= 0\n",
    "p_cha <= p_lim\n",
    "\n",
    "# dischargin constraints\n",
    "p_dis >= 0\n",
    "p_dis <= p_lim\n",
    "\n",
    "# SOC constraints\n",
    "J >= 0\n",
    "J <= J_max\n"
   ]
  },
  {
   "cell_type": "code",
   "execution_count": 25,
   "id": "focal-person",
   "metadata": {},
   "outputs": [
    {
     "data": {
      "text/plain": [
       "'2018-01-02T01:00:00-00:00'"
      ]
     },
     "execution_count": 25,
     "metadata": {},
     "output_type": "execute_result"
    }
   ],
   "source": [
    "## getting LMP data, etc\n",
    "\n",
    "df = pd.read_csv(\"201801_dalmp_TH_NP15_GEN-APND.csv\")\n",
    "lmp = df[\"LMP\"]\n",
    "# lmp for Jan 2nd\n",
    "lmp_oneday = lmp[17:41]\n",
    "lmp_oneday\n",
    "\n",
    "df['INTERVALSTARTTIME_GMT'][17]"
   ]
  },
  {
   "cell_type": "code",
   "execution_count": 26,
   "id": "caroline-wound",
   "metadata": {},
   "outputs": [
    {
     "data": {
      "text/plain": [
       "' 01/02  24:00:00'"
      ]
     },
     "execution_count": 26,
     "metadata": {},
     "output_type": "execute_result"
    }
   ],
   "source": [
    "p_dem_df = pd.read_csv(\"USA_WA_Seattle-Tacoma.727930_TMY2.csv\")\n",
    "p_dem_df.head()\n",
    "p_dem_df['Date/Time'][47]"
   ]
  },
  {
   "cell_type": "code",
   "execution_count": 29,
   "id": "oriented-providence",
   "metadata": {},
   "outputs": [
    {
     "name": "stdout",
     "output_type": "stream",
     "text": [
      "A solution p_cha is\n",
      "[5.02225658e-07 6.06766718e-07 4.98759664e-07 1.72265272e-06\n",
      " 2.62799980e-06 4.39562042e-06 2.69352782e+02 1.91339868e-05\n",
      " 4.99999998e+03 4.99999999e+03 4.99999999e+03 4.99999998e+03\n",
      " 2.53380308e-05 1.75925780e-06 6.02523705e-07 3.56408607e-06\n",
      " 1.28824048e-04 4.99999999e+03 4.99999999e+03 4.99999999e+03\n",
      " 4.99999998e+03 4.99999978e+03 3.21854878e-06 1.74312418e-06]\n",
      "A solution p_dis is\n",
      "[5.00000000e+03 5.00000000e+03 5.00000000e+03 5.00000000e+03\n",
      " 4.99999996e+03 6.64158822e-06 2.75745814e-06 3.02300561e-06\n",
      " 2.39534311e-06 2.03143236e-06 1.69203516e-06 2.37032714e-06\n",
      " 3.52380650e-06 5.00000000e+03 5.00000000e+03 8.30519631e-06\n",
      " 2.88013815e-06 2.06822787e-06 1.77404695e-06 1.77670435e-06\n",
      " 2.41621341e-06 2.69890318e-06 1.02253559e-05 5.00000000e+03]\n",
      "A solution J is\n",
      "[-5.31814893e+03 -1.06372979e+04 -1.59564468e+04 -2.12755957e+04\n",
      " -2.65947446e+04 -2.65947446e+04 -2.63415530e+04 -2.63415530e+04\n",
      " -2.16415530e+04 -1.69415530e+04 -1.22415530e+04 -7.54155306e+03\n",
      " -7.54155304e+03 -1.28607020e+04 -1.81798509e+04 -1.81798509e+04\n",
      " -1.81798508e+04 -1.34798508e+04 -8.77985082e+03 -4.07985082e+03\n",
      "  6.20149152e+02  5.32014894e+03  5.32014893e+03  1.00000014e+00]\n"
     ]
    }
   ],
   "source": [
    "### constants\n",
    "# time step currently is ONE HOUR\n",
    "# the day is currently JAN 2nd\n",
    "# number of hours\n",
    "n = 24\n",
    "\n",
    "# power limit\n",
    "p_lim = 5 * 10 ** 3\n",
    "# state of charge max\n",
    "J_max = 20 * 10 ** 3\n",
    "J_init = 1 * 10 ** 3\n",
    "# charge efficiency\n",
    "cha_eff = 0.94\n",
    "# discharge efficiency\n",
    "dis_eff = 0.94\n",
    "# power demand for Jan 2nd\n",
    "p_dem = p_dem_df[\"Electricity:Facility [kWh](Hourly)\"][23:47]\n",
    "# power supplied by pv\n",
    "# calculated for Jan 1, using TMYFormatting.ipynb\n",
    "p_pv = [0.0, 0.0, 0.0, 0.0, 0.0, 0.0, 0.0, 0.0, \n",
    "        0.036874374112418534, 18.874678324745716, \n",
    "        15.690924739526677, 72.0408116258169, \n",
    "        24.73208104704921, 16.538375698519136, \n",
    "        26.69471806669538, 2.0599573028765286, \n",
    "        0.0, 0.0, 0.0, 0.0, 0.0, 0.0, 0.0, 0.0]\n",
    "\n",
    "p_cha = cp.Variable(n)\n",
    "p_dis = cp.Variable(n)\n",
    "J = cp.Variable(n)\n",
    "\n",
    "\n",
    "constraints = [J[0] == J_init + cha_eff * p_cha[0] - p_dis[0] / dis_eff]\n",
    "constraints += [J[t] == J[t-1] + cha_eff * p_cha[t] - p_dis[t] / dis_eff for t in range(1,n)]\n",
    "constraints += [J[n-1] >= J_init]\n",
    "constraints += [p_cha >= 0]\n",
    "constraints += [p_cha <= p_lim]\n",
    "constraints += [p_dis >= 0]\n",
    "constraints += [p_dis <= p_lim]\n",
    "\n",
    "# convert pandas Series into numpy array\n",
    "_lmp = lmp_oneday.to_numpy()\n",
    "p_dem = p_dem.to_numpy()\n",
    "#J_const = np.array(J_const)\n",
    "\n",
    "p_net = p_dem - p_pv + p_cha - p_dis\n",
    "\n",
    "prob = cp.Problem(cp.Minimize(_lmp.T @ p_net), constraints)\n",
    "\n",
    "prob.solve()\n",
    "print(\"A solution p_cha is\")\n",
    "print(p_cha.value)\n",
    "print(\"A solution p_dis is\")\n",
    "print(p_dis.value)\n",
    "print(\"A solution J is\")\n",
    "print(J.value)\n"
   ]
  },
  {
   "cell_type": "code",
   "execution_count": null,
   "id": "powered-library",
   "metadata": {},
   "outputs": [],
   "source": []
  }
 ],
 "metadata": {
  "kernelspec": {
   "display_name": "Python 3",
   "language": "python",
   "name": "python3"
  },
  "language_info": {
   "codemirror_mode": {
    "name": "ipython",
    "version": 3
   },
   "file_extension": ".py",
   "mimetype": "text/x-python",
   "name": "python",
   "nbconvert_exporter": "python",
   "pygments_lexer": "ipython3",
   "version": "3.8.5"
  }
 },
 "nbformat": 4,
 "nbformat_minor": 5
}
