{
 "cells": [
  {
   "cell_type": "code",
   "execution_count": 1,
   "id": "awful-exception",
   "metadata": {},
   "outputs": [],
   "source": [
    "## Libraries\n",
    "%matplotlib inline\n",
    "import math\n",
    "import numpy as np\n",
    "import matplotlib.pyplot as plt\n",
    "import pv_model_class\n",
    "import cvxpy as cp\n",
    "import pandas as pd"
   ]
  },
  {
   "cell_type": "code",
   "execution_count": 2,
   "id": "signed-issue",
   "metadata": {},
   "outputs": [],
   "source": [
    "# Constants and variables\n",
    "\n",
    "Iscn = 8.21 #8.7 # nominal short circuit current\n",
    "Vocn = 32.9 #37.7 # nominal open circuit voltage\n",
    "Imp = 7.61 #8.2 # array current at MPP\n",
    "Vmp = 26.3 #30.1 # array voltage at MPP\n",
    "Pmax_e = Vmp * Imp # experimental array max power output\n",
    "Kv = -0.123 #-0.32/100 * Vocn # voltage temperature coefficient\n",
    "Ki = 0.0032 #-0.032/100 * Iscn # current temperature coefficient\n",
    "Ns = 54 #60. # number of series cells\n",
    "Gn = 1000. # nominal irradiance\n",
    "G = Gn\n",
    "Tn = 25. + 273.15 # nominal operating temperature\n",
    "T = Tn\n",
    "\n",
    "Egap = 1.8 * 10 ** -19 # Bandgap of silicon (silicio cristalino)\n",
    "\n",
    "err = 0.0001\n",
    "inverter = 0.95\n",
    "array_dim = [1, 1]"
   ]
  },
  {
   "cell_type": "code",
   "execution_count": 3,
   "id": "smoking-marketing",
   "metadata": {},
   "outputs": [
    {
     "name": "stdout",
     "output_type": "stream",
     "text": [
      "\n",
      "The optimal value is -15.220912605552861\n",
      "A solution x is\n",
      "[-1.10133381 -0.16360111 -0.89734939  0.03216603  0.6069123  -1.12687348\n",
      "  1.12967856  0.88176638  0.49075229  0.8984822 ]\n",
      "A dual solution is\n",
      "[6.98805172e-10 6.11756416e-01 5.28171747e-01 1.07296862e+00\n",
      " 3.93759300e-09 2.30153870e+00 4.25704434e-10 7.61206896e-01\n",
      " 8.36906030e-09 2.49370377e-01 1.30187120e-09 2.06014070e+00\n",
      " 3.22417207e-01 3.84054343e-01 1.59493839e-09]\n"
     ]
    }
   ],
   "source": [
    "### Linear Program Example\n",
    "\n",
    "m = 15\n",
    "n = 10\n",
    "np.random.seed(1)\n",
    "s0 = np.random.randn(m)\n",
    "lamb0 = np.maximum(-s0, 0)\n",
    "s0 = np.maximum(s0, 0)\n",
    "x0 = np.random.randn(n)\n",
    "A = np.random.randn(m, n)\n",
    "b = A @ x0 + s0\n",
    "c = -A.T @ lamb0\n",
    "\n",
    "# Define and solve the CVXPY problem.\n",
    "x = cp.Variable(n)\n",
    "prob = cp.Problem(cp.Minimize(c.T@x),\n",
    "                 [A @ x <= b])\n",
    "prob.solve()\n",
    "\n",
    "# Print result.\n",
    "print(\"\\nThe optimal value is\", prob.value)\n",
    "print(\"A solution x is\")\n",
    "print(x.value)\n",
    "print(\"A dual solution is\")\n",
    "print(prob.constraints[0].dual_value)\n",
    "\n",
    "\n",
    "## use '@' when doing multiplication between vectors and matrices -- turns them into scalars\n",
    "## use '*' when doing multiplication between scalars and vectors or matrices"
   ]
  },
  {
   "cell_type": "markdown",
   "id": "first-anger",
   "metadata": {},
   "source": [
    "## Helpful links:\n",
    "1. https://www.cvxpy.org/tutorial/functions/index.html\n",
    "2. https://www.cvxpy.org/examples/basic/linear_program.html\n"
   ]
  },
  {
   "cell_type": "markdown",
   "id": "hollywood-uncle",
   "metadata": {},
   "source": [
    "# charging constraints\n",
    "p_cha >= 0\n",
    "p_cha <= p_lim\n",
    "\n",
    "# dischargin constraints\n",
    "p_dis >= 0\n",
    "p_dis <= p_lim\n",
    "\n",
    "# SOC constraints\n",
    "J >= 0\n",
    "J <= J_max\n"
   ]
  },
  {
   "cell_type": "code",
   "execution_count": 26,
   "id": "increasing-discovery",
   "metadata": {},
   "outputs": [
    {
     "data": {
      "text/plain": [
       "'2018-01-02T01:00:00-00:00'"
      ]
     },
     "execution_count": 26,
     "metadata": {},
     "output_type": "execute_result"
    }
   ],
   "source": [
    "## getting LMP data, etc\n",
    "\n",
    "df = pd.read_csv(\"201801_dalmp_TH_NP15_GEN-APND.csv\")\n",
    "lmp = df[\"LMP\"]\n",
    "lmp_oneday = lmp[17:41]\n",
    "lmp_oneday\n",
    "\n",
    "# range from 8 to 23 hours (index 0 to 15, length of 16)\n",
    "df['INTERVALSTARTTIME_GMT'][17]"
   ]
  },
  {
   "cell_type": "code",
   "execution_count": 27,
   "id": "liable-ground",
   "metadata": {},
   "outputs": [
    {
     "data": {
      "text/plain": [
       "' 01/02  24:00:00'"
      ]
     },
     "execution_count": 27,
     "metadata": {},
     "output_type": "execute_result"
    }
   ],
   "source": [
    "p_dem_df = pd.read_csv(\"USA_WA_Seattle-Tacoma.727930_TMY2.csv\")\n",
    "p_dem_df.head()\n",
    "p_dem_df['Date/Time'][47]"
   ]
  },
  {
   "cell_type": "code",
   "execution_count": 29,
   "id": "oriented-providence",
   "metadata": {},
   "outputs": [
    {
     "name": "stdout",
     "output_type": "stream",
     "text": [
      "\n",
      "The optimal value is -3705.20153163716\n",
      "A solution p_cha is\n",
      "[-5.58696959e-12 -5.38360188e-12 -5.62126701e-12 -4.74593548e-12\n",
      " -4.40908749e-12 -4.15312665e-12 -3.85389097e-12 -3.89737904e-12\n",
      " -3.78198154e-12 -3.69202125e-12 -3.58777978e-12 -3.77621905e-12\n",
      " -3.96303278e-12 -4.73110499e-12 -5.38701998e-12 -4.19643399e-12\n",
      " -3.87430777e-12 -3.70160265e-12 -3.61458772e-12 -3.61540349e-12\n",
      " -3.78592137e-12 -3.84252801e-12 -4.22901991e-12 -4.73687140e-12]\n",
      "A solution p_dis is\n",
      "[1.49037314e-13 1.43917875e-13 1.49899546e-13 1.27803147e-13\n",
      " 1.19311268e-13 1.12897413e-13 1.05456408e-13 1.06533457e-13\n",
      " 1.03679021e-13 1.01462060e-13 9.89029977e-14 1.03536787e-13\n",
      " 1.08162412e-13 1.27428399e-13 1.44004025e-13 1.13979718e-13\n",
      " 1.05961864e-13 1.01697819e-13 9.95600593e-14 9.95800654e-14\n",
      " 1.03776283e-13 1.05175250e-13 1.14794898e-13 1.27574102e-13]\n"
     ]
    }
   ],
   "source": [
    "### constants\n",
    "\n",
    "# time step currently is ONE HOUR\n",
    "\n",
    "# power limit\n",
    "p_lim = 5 * 10**3\n",
    "# state of charge max\n",
    "J_max = 20 * 10 **3\n",
    "# charge efficiency\n",
    "cha_eff = 0.85\n",
    "# discharge efficiency\n",
    "dis_eff = 0.15\n",
    "# power demand\n",
    "p_dem = p_dem_df[\"Electricity:Facility [kWh](Hourly)\"][23:47]\n",
    "# power supplied by pv\n",
    "# calculated for Jan 1, using TMYFormatting.ipynb\n",
    "p_pv = [0.0, 0.0, 0.0, 0.0, 0.0, 0.0, 0.0, 0.0, \n",
    "        0.04458429583591524, 16.005879953384856, \n",
    "        17.073777706000868, 40.99387471884097, \n",
    "        22.73501183321906, 16.011503472109514, \n",
    "        12.890191919606584, 2.469797077496577, \n",
    "        0.0, 0.0, 0.0, 0.0, 0.0, 0.0, 0.0, 0.0]\n",
    "\n",
    "## Length is 16 since the LMP data starts at 8am and goes to 11pm\n",
    "p_cha = cp.Variable(24)\n",
    "p_dis = cp.Variable(24)\n",
    "\n",
    "# convert pandas Series into numpy array\n",
    "_lmp = lmp_oneday.to_numpy()\n",
    "p_dem = p_dem.to_numpy()\n",
    "\n",
    "p_net = p_dem - p_pv + p_cha - p_dis\n",
    "\n",
    "# state of charge (SOC)\n",
    "J = cha_eff * p_cha - p_dis / dis_eff\n",
    "\n",
    "prob = cp.Problem(cp.Minimize(_lmp.T @ p_net),\n",
    "                 [p_cha >= 0, p_cha <= p_lim, p_dis >= 0, p_dis <= p_lim, J >= 0, J <= J_max])\n",
    "prob.solve()\n",
    "print(\"\\nThe optimal value is\", prob.value)\n",
    "print(\"A solution p_cha is\")\n",
    "print(p_cha.value)\n",
    "print(\"A solution p_dis is\")\n",
    "print(p_dis.value)\n"
   ]
  },
  {
   "cell_type": "code",
   "execution_count": null,
   "id": "functional-wells",
   "metadata": {},
   "outputs": [],
   "source": []
  }
 ],
 "metadata": {
  "kernelspec": {
   "display_name": "Python 3",
   "language": "python",
   "name": "python3"
  },
  "language_info": {
   "codemirror_mode": {
    "name": "ipython",
    "version": 3
   },
   "file_extension": ".py",
   "mimetype": "text/x-python",
   "name": "python",
   "nbconvert_exporter": "python",
   "pygments_lexer": "ipython3",
   "version": "3.8.5"
  }
 },
 "nbformat": 4,
 "nbformat_minor": 5
}
