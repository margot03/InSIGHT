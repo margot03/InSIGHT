{
 "cells": [
  {
   "cell_type": "code",
   "execution_count": 1,
   "id": "awful-exception",
   "metadata": {},
   "outputs": [],
   "source": [
    "## Libraries\n",
    "%matplotlib inline\n",
    "import math\n",
    "import numpy as np\n",
    "import matplotlib.pyplot as plt\n",
    "import pv_model_class\n",
    "import cvxpy as cp\n",
    "import pandas as pd"
   ]
  },
  {
   "cell_type": "code",
   "execution_count": 2,
   "id": "signed-issue",
   "metadata": {},
   "outputs": [],
   "source": [
    "# Constants and variables\n",
    "\n",
    "Iscn = 8.21 #8.7 # nominal short circuit current\n",
    "Vocn = 32.9 #37.7 # nominal open circuit voltage\n",
    "Imp = 7.61 #8.2 # array current at MPP\n",
    "Vmp = 26.3 #30.1 # array voltage at MPP\n",
    "Pmax_e = Vmp * Imp # experimental array max power output\n",
    "Kv = -0.123 #-0.32/100 * Vocn # voltage temperature coefficient\n",
    "Ki = 0.0032 #-0.032/100 * Iscn # current temperature coefficient\n",
    "Ns = 54 #60. # number of series cells\n",
    "Gn = 1000. # nominal irradiance\n",
    "G = Gn\n",
    "Tn = 25. + 273.15 # nominal operating temperature\n",
    "T = Tn\n",
    "\n",
    "Egap = 1.8 * 10 ** -19 # Bandgap of silicon (silicio cristalino)\n",
    "\n",
    "err = 0.0001\n",
    "inverter = 0.95\n",
    "array_dim = [1, 1]"
   ]
  },
  {
   "cell_type": "code",
   "execution_count": 3,
   "id": "smoking-marketing",
   "metadata": {},
   "outputs": [
    {
     "name": "stdout",
     "output_type": "stream",
     "text": [
      "\n",
      "The optimal value is -15.220912605552861\n",
      "A solution x is\n",
      "[-1.10133381 -0.16360111 -0.89734939  0.03216603  0.6069123  -1.12687348\n",
      "  1.12967856  0.88176638  0.49075229  0.8984822 ]\n",
      "A dual solution is\n",
      "[6.98805172e-10 6.11756416e-01 5.28171747e-01 1.07296862e+00\n",
      " 3.93759300e-09 2.30153870e+00 4.25704434e-10 7.61206896e-01\n",
      " 8.36906030e-09 2.49370377e-01 1.30187120e-09 2.06014070e+00\n",
      " 3.22417207e-01 3.84054343e-01 1.59493839e-09]\n"
     ]
    }
   ],
   "source": [
    "### Linear Program Example\n",
    "\n",
    "m = 15\n",
    "n = 10\n",
    "np.random.seed(1)\n",
    "s0 = np.random.randn(m)\n",
    "lamb0 = np.maximum(-s0, 0)\n",
    "s0 = np.maximum(s0, 0)\n",
    "x0 = np.random.randn(n)\n",
    "A = np.random.randn(m, n)\n",
    "b = A @ x0 + s0\n",
    "c = -A.T @ lamb0\n",
    "\n",
    "# Define and solve the CVXPY problem.\n",
    "x = cp.Variable(n)\n",
    "prob = cp.Problem(cp.Minimize(c.T@x),\n",
    "                 [A @ x <= b])\n",
    "prob.solve()\n",
    "\n",
    "# Print result.\n",
    "print(\"\\nThe optimal value is\", prob.value)\n",
    "print(\"A solution x is\")\n",
    "print(x.value)\n",
    "print(\"A dual solution is\")\n",
    "print(prob.constraints[0].dual_value)\n",
    "\n",
    "\n",
    "## use '@' when doing multiplication between vectors and matrices -- turns them into scalars\n",
    "## use '*' when doing multiplication between scalars and vectors or matrices"
   ]
  },
  {
   "cell_type": "markdown",
   "id": "first-anger",
   "metadata": {},
   "source": [
    "## Helpful links:\n",
    "1. https://www.cvxpy.org/tutorial/functions/index.html\n",
    "2. https://www.cvxpy.org/examples/basic/linear_program.html\n"
   ]
  },
  {
   "cell_type": "markdown",
   "id": "hollywood-uncle",
   "metadata": {},
   "source": [
    "# charging constraints\n",
    "p_cha >= 0\n",
    "p_cha <= p_lim\n",
    "\n",
    "# dischargin constraints\n",
    "p_dis >= 0\n",
    "p_dis <= p_lim\n",
    "\n",
    "# SOC constraints\n",
    "J >= 0\n",
    "J <= J_max\n"
   ]
  },
  {
   "cell_type": "code",
   "execution_count": 25,
   "id": "focal-person",
   "metadata": {},
   "outputs": [
    {
     "data": {
      "text/plain": [
       "'2018-01-02T01:00:00-00:00'"
      ]
     },
     "execution_count": 25,
     "metadata": {},
     "output_type": "execute_result"
    }
   ],
   "source": [
    "## getting LMP data, etc\n",
    "\n",
    "df = pd.read_csv(\"201801_dalmp_TH_NP15_GEN-APND.csv\")\n",
    "lmp = df[\"LMP\"]\n",
    "# lmp for Jan 2nd\n",
    "lmp_oneday = lmp[17:41]\n",
    "lmp_oneday\n",
    "\n",
    "df['INTERVALSTARTTIME_GMT'][17]"
   ]
  },
  {
   "cell_type": "code",
   "execution_count": 26,
   "id": "caroline-wound",
   "metadata": {},
   "outputs": [
    {
     "data": {
      "text/plain": [
       "' 01/02  24:00:00'"
      ]
     },
     "execution_count": 26,
     "metadata": {},
     "output_type": "execute_result"
    }
   ],
   "source": [
    "p_dem_df = pd.read_csv(\"USA_WA_Seattle-Tacoma.727930_TMY2.csv\")\n",
    "p_dem_df.head()\n",
    "p_dem_df['Date/Time'][47]"
   ]
  },
  {
   "cell_type": "code",
   "execution_count": 27,
   "id": "oriented-providence",
   "metadata": {},
   "outputs": [
    {
     "name": "stdout",
     "output_type": "stream",
     "text": [
      "A solution p_cha is\n",
      "[8.15773886e-15 1.00978896e-14 7.83932506e-15 1.69974968e-14\n",
      " 2.13169809e-14 2.50350442e-14 3.00108511e-14 2.92373958e-14\n",
      " 3.13297879e-14 3.30601930e-14 3.51874656e-14 3.14362380e-14\n",
      " 2.81018128e-14 1.71704557e-14 1.00570019e-14 2.43691173e-14\n",
      " 2.96400051e-14 3.28668415e-14 3.46223734e-14 3.46048964e-14\n",
      " 3.12492341e-14 3.02073689e-14 2.38771677e-14 1.70952010e-14]\n",
      "A solution p_dis is\n",
      "[2.09716814e-14 1.93151786e-14 2.12692976e-14 1.49679047e-14\n",
      " 1.30665553e-14 1.17615099e-14 1.03637849e-14 1.05603592e-14\n",
      " 1.00480970e-14 9.66080691e-15 9.22398150e-15 1.00261356e-14\n",
      " 1.08657194e-14 1.48899478e-14 1.93557421e-14 1.19856684e-14\n",
      " 1.04659933e-14 9.71029897e-15 9.34395886e-15 9.34843549e-15\n",
      " 1.00782248e-14 1.03292225e-14 1.21557314e-14 1.49351150e-14]\n",
      "A solution J is\n",
      "[1000. 1000. 1000. 1000. 1000. 1000. 1000. 1000. 1000. 1000. 1000. 1000.\n",
      " 1000. 1000. 1000. 1000. 1000. 1000. 1000. 1000. 1000. 1000. 1000. 1000.]\n"
     ]
    }
   ],
   "source": [
    "### constants\n",
    "# time step currently is ONE HOUR\n",
    "# the day is currently JAN 2nd\n",
    "# number of hours\n",
    "n = 24\n",
    "\n",
    "# power limit\n",
    "p_lim = 5 * 10 ** 3\n",
    "# state of charge max\n",
    "J_max = 20 * 10 ** 3\n",
    "J_init = 1 * 10 ** 3\n",
    "# charge efficiency\n",
    "cha_eff = 0.85\n",
    "# discharge efficiency\n",
    "dis_eff = 0.15\n",
    "# power demand for Jan 2nd\n",
    "p_dem = p_dem_df[\"Electricity:Facility [kWh](Hourly)\"][23:47]\n",
    "# power supplied by pv\n",
    "# calculated for Jan 1, using TMYFormatting.ipynb\n",
    "p_pv = [0.0, 0.0, 0.0, 0.0, 0.0, 0.0, 0.0, 0.0, \n",
    "        0.036874374112418534, 18.874678324745716, \n",
    "        15.690924739526677, 72.0408116258169, \n",
    "        24.73208104704921, 16.538375698519136, \n",
    "        26.69471806669538, 2.0599573028765286, \n",
    "        0.0, 0.0, 0.0, 0.0, 0.0, 0.0, 0.0, 0.0]\n",
    "\n",
    "p_cha = cp.Variable(n)\n",
    "p_dis = cp.Variable(n)\n",
    "J = cp.Variable(n)\n",
    "\n",
    "\n",
    "constraints = [J[0] == J_init + cha_eff * p_cha[0] - p_dis[0] / dis_eff]\n",
    "constraints += [J[t] == J[t-1] + cha_eff * p_cha[t] - p_dis[t] / dis_eff for t in range(1,n)]\n",
    "constraints += [J[n-1] >= J_init]\n",
    "constraints += [p_cha >= 0]\n",
    "constraints += [p_cha <= p_lim]\n",
    "constraints += [p_dis >= 0]\n",
    "constraints += [p_dis <= p_lim]\n",
    "\n",
    "# convert pandas Series into numpy array\n",
    "_lmp = lmp_oneday.to_numpy()\n",
    "p_dem = p_dem.to_numpy()\n",
    "#J_const = np.array(J_const)\n",
    "\n",
    "p_net = p_dem - p_pv + p_cha - p_dis\n",
    "\n",
    "prob = cp.Problem(cp.Minimize(_lmp.T @ p_net), constraints)\n",
    "\n",
    "prob.solve()\n",
    "print(\"A solution p_cha is\")\n",
    "print(p_cha.value)\n",
    "print(\"A solution p_dis is\")\n",
    "print(p_dis.value)\n",
    "print(\"A solution J is\")\n",
    "print(J.value)\n"
   ]
  },
  {
   "cell_type": "code",
   "execution_count": null,
   "id": "outdoor-cancellation",
   "metadata": {},
   "outputs": [],
   "source": []
  }
 ],
 "metadata": {
  "kernelspec": {
   "display_name": "Python 3",
   "language": "python",
   "name": "python3"
  },
  "language_info": {
   "codemirror_mode": {
    "name": "ipython",
    "version": 3
   },
   "file_extension": ".py",
   "mimetype": "text/x-python",
   "name": "python",
   "nbconvert_exporter": "python",
   "pygments_lexer": "ipython3",
   "version": "3.8.5"
  }
 },
 "nbformat": 4,
 "nbformat_minor": 5
}
