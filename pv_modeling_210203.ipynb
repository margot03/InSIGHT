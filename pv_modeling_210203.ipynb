{
 "cells": [
  {
   "cell_type": "code",
   "execution_count": 8,
   "id": "unlimited-costs",
   "metadata": {},
   "outputs": [],
   "source": [
    "%matplotlib inline\n",
    "import math\n",
    "import numpy as np\n",
    "import matplotlib.pyplot as plt\n",
    "# k = boltzmann's constnat = 1.3806503 * 10 ** (-23) J/K\n"
   ]
  },
  {
   "cell_type": "code",
   "execution_count": 2,
   "id": "through-floor",
   "metadata": {},
   "outputs": [],
   "source": [
    "# calculates light generated current\n",
    "def pv_current(i_nominal, temp_nominal, temp_actual, irradiation_nominal, irradiation_actual):\n",
    "    k1 = 1 # some constant\n",
    "    delta_temp = temp_nominal - temp_actual\n",
    "    temp = k1 * delta_temp\n",
    "    i_current = (i_nominal + temp) * irradiation_actual / irradiation_nominal\n",
    "    return i_current\n"
   ]
  },
  {
   "cell_type": "code",
   "execution_count": 22,
   "id": "accessible-separate",
   "metadata": {},
   "outputs": [],
   "source": [
    "# calculates the diode saturation current\n",
    "def saturation_current(i_sc_nom, v_oc_nom, v_t_nom, a, temp_nom, temp_act, bandgap_energy):\n",
    "    # equation 5\n",
    "    # v_t_nom is thermal voltage of Ns cells connected in series\n",
    "    q = 1.602 * math.pow(10, -19) # charge on electron\n",
    "    k = 1.3806503 * math.pow(10, -23) # boltzmann constant\n",
    "    i0_n = i_sc_nom / (math.exp(v_oc_nom / (a * v_t_nom)) - 1)\n",
    "    temp_energy_charge = (q * bandgap_energy / (a * k)) * ((1/temp_nom) - (1/temp_act))\n",
    "    I0 = i0_n * (math.pow(temp_nom / temp_act, 3) * math.exp(temp_energy_charge))\n",
    "    return I0"
   ]
  },
  {
   "cell_type": "code",
   "execution_count": 28,
   "id": "stretch-princess",
   "metadata": {},
   "outputs": [],
   "source": [
    "# calculates total current leaving pv\n",
    "def current(i_pv, i_0, V, temp, a):\n",
    "    # ideal equation\n",
    "    k = 1.3806503 * math.pow(10, -23) # boltzmann constant\n",
    "    q = 1.602 * math.pow(10, -19) # charge on electron\n",
    "    return i_pv - i_0 * (math.exp(q * V / (1000*a*k*temp)) - 1) # take out 1000 later!! Just for math range err\n"
   ]
  },
  {
   "cell_type": "code",
   "execution_count": 26,
   "id": "published-acceptance",
   "metadata": {},
   "outputs": [],
   "source": [
    "# plots different voltage current pairs on an IV curve\n",
    "def iv_curve(v_oc_n):\n",
    "    v = np.arange(0, v_oc_n, 0.1)\n",
    "    i = []\n",
    "    for num in v:\n",
    "        i.append(current(num, 1, 1, 1, 1))\n",
    "    figure = plt.figure(1)\n",
    "    plt.plot(v, i)\n",
    "    plt.show()"
   ]
  },
  {
   "cell_type": "code",
   "execution_count": 29,
   "id": "large-electron",
   "metadata": {},
   "outputs": [
    {
     "data": {
      "image/png": "[encoded data removed]",
      "text/plain": [
       "<Figure size 432x288 with 1 Axes>"
      ]
     },
     "metadata": {
      "needs_background": "light"
     },
     "output_type": "display_data"
    }
   ],
   "source": [
    "pv_current(1, 1, 1, 1, 1)\n",
    "saturation_current(2, 2, 2, 2, 2, 2, 2)\n",
    "current(1, 1, 1, 1, 1)\n",
    "iv_curve(1)"
   ]
  },
  {
   "cell_type": "markdown",
   "id": "speaking-suggestion",
   "metadata": {},
   "source": [
    "## To Do next:\n",
    "clean up (add descriptive comments including definitions for variables, etc)\n",
    "\n",
    "find real values to test code with\n",
    "\n",
    "change current() to not be only ideal\n",
    "\n",
    "calculate power\n",
    "\n",
    "create PV curve"
   ]
  },
  {
   "cell_type": "code",
   "execution_count": null,
   "id": "chronic-fountain",
   "metadata": {},
   "outputs": [],
   "source": []
  }
 ],
 "metadata": {
  "kernelspec": {
   "display_name": "Python 3",
   "language": "python",
   "name": "python3"
  },
  "language_info": {
   "codemirror_mode": {
    "name": "ipython",
    "version": 3
   },
   "file_extension": ".py",
   "mimetype": "text/x-python",
   "name": "python",
   "nbconvert_exporter": "python",
   "pygments_lexer": "ipython3",
   "version": "3.8.5"
  }
 },
 "nbformat": 4,
 "nbformat_minor": 5
}
