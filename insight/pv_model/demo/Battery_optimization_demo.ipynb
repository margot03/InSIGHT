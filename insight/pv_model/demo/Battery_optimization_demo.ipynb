{
 "cells": [
  {
   "cell_type": "code",
   "execution_count": 9,
   "id": "confirmed-mattress",
   "metadata": {},
   "outputs": [],
   "source": [
    "## Libraries\n",
    "%matplotlib inline\n",
    "import math\n",
    "import numpy as np\n",
    "import matplotlib.pyplot as plt\n",
    "from insight.pv_model import pv_model_class\n",
    "import cvxpy as cp\n",
    "import pandas as pd\n",
    "import os"
   ]
  },
  {
   "cell_type": "code",
   "execution_count": 10,
   "id": "informative-vehicle",
   "metadata": {},
   "outputs": [],
   "source": [
    "# Constants and variables\n",
    "\n",
    "Iscn = 8.21 # nominal short circuit current\n",
    "Vocn = 32.9 # nominal open circuit voltage\n",
    "Imp = 7.61 # array current at MPP\n",
    "Vmp = 26.3 # array voltage at MPP\n",
    "Pmax_e = Vmp * Imp # experimental array max power output\n",
    "Kv = -0.123 # voltage temperature coefficient\n",
    "Ki = 0.0032 # current temperature coefficient\n",
    "Ns = 54 # number of series cells\n",
    "Gn = 1000. # nominal irradiance\n",
    "G = Gn\n",
    "Tn = 25. + 273.15 # nominal operating temperature\n",
    "T = Tn\n",
    "\n",
    "Egap = 1.8 * 10 ** -19 # Bandgap of silicon (silicio cristalino)\n",
    "\n",
    "err = 0.0001\n",
    "inverter_eff = 0.95\n",
    "array_dim = [1, 1]"
   ]
  },
  {
   "cell_type": "code",
   "execution_count": 11,
   "id": "technical-iceland",
   "metadata": {},
   "outputs": [
    {
     "name": "stdout",
     "output_type": "stream",
     "text": [
      "\n",
      "The optimal value is -15.220912605552861\n",
      "A solution x is\n",
      "[-1.10133381 -0.16360111 -0.89734939  0.03216603  0.6069123  -1.12687348\n",
      "  1.12967856  0.88176638  0.49075229  0.8984822 ]\n",
      "A dual solution is\n",
      "[6.98805172e-10 6.11756416e-01 5.28171747e-01 1.07296862e+00\n",
      " 3.93759300e-09 2.30153870e+00 4.25704434e-10 7.61206896e-01\n",
      " 8.36906030e-09 2.49370377e-01 1.30187120e-09 2.06014070e+00\n",
      " 3.22417207e-01 3.84054343e-01 1.59493839e-09]\n"
     ]
    }
   ],
   "source": [
    "### Linear Program Example -- CVXPY\n",
    "\n",
    "m = 15\n",
    "n = 10\n",
    "np.random.seed(1)\n",
    "s0 = np.random.randn(m)\n",
    "lamb0 = np.maximum(-s0, 0)\n",
    "s0 = np.maximum(s0, 0)\n",
    "x0 = np.random.randn(n)\n",
    "A = np.random.randn(m, n)\n",
    "b = A @ x0 + s0\n",
    "c = -A.T @ lamb0\n",
    "\n",
    "# Define and solve the CVXPY problem.\n",
    "x = cp.Variable(n)\n",
    "prob = cp.Problem(cp.Minimize(c.T@x),\n",
    "                 [A @ x <= b])\n",
    "prob.solve()\n",
    "\n",
    "# Print result.\n",
    "print(\"\\nThe optimal value is\", prob.value)\n",
    "print(\"A solution x is\")\n",
    "print(x.value)\n",
    "print(\"A dual solution is\")\n",
    "print(prob.constraints[0].dual_value)\n",
    "\n",
    "\n",
    "## use '@' when doing multiplication between vectors and matrices -- turns them into scalars\n",
    "## use '*' when doing multiplication between scalars and vectors or matrices"
   ]
  },
  {
   "cell_type": "markdown",
   "id": "comparable-portland",
   "metadata": {},
   "source": [
    "## Helpful links:\n",
    "1. https://www.cvxpy.org/tutorial/functions/index.html\n",
    "2. https://www.cvxpy.org/examples/basic/linear_program.html\n"
   ]
  },
  {
   "cell_type": "markdown",
   "id": "muslim-dinner",
   "metadata": {},
   "source": [
    "# charging constraints\n",
    "p_cha >= 0\n",
    "p_cha <= p_lim\n",
    "\n",
    "# dischargin constraints\n",
    "p_dis >= 0\n",
    "p_dis <= p_lim\n",
    "\n",
    "# SOC constraints\n",
    "J >= 0\n",
    "J <= J_max\n"
   ]
  },
  {
   "cell_type": "code",
   "execution_count": 12,
   "id": "consecutive-identification",
   "metadata": {},
   "outputs": [],
   "source": [
    "## getting LMP data, etc\n",
    "\n",
    "df = pd.read_csv(os.path.join(\"..//..//..//data\", \"LMP_data_201801_dalmp_TH_NP15_GEN-APND.csv\"))\n",
    "lmp = df[\"LMP\"]\n",
    "# lmp for Jan 2nd\n",
    "lmp_oneday = lmp[17:41]\n",
    "\n",
    "#df['INTERVALSTARTTIME_GMT'][17]"
   ]
  },
  {
   "cell_type": "code",
   "execution_count": 13,
   "id": "violent-coordinate",
   "metadata": {},
   "outputs": [
    {
     "name": "stdout",
     "output_type": "stream",
     "text": [
      "0.394315391925397\n"
     ]
    }
   ],
   "source": [
    "p_dem_df = pd.read_csv(os.path.join(\"..//..//..//data\", \"Demand_data_USA_WA_Seattle-Tacoma.727930_TMY2.csv\"))\n",
    "\n",
    "print(min(p_dem_df['Electricity:Facility [kWh](Hourly)']))\n",
    "\n",
    "#p_dem_df.head()\n",
    "#p_dem_df['Date/Time'][47]"
   ]
  },
  {
   "cell_type": "code",
   "execution_count": 14,
   "id": "perfect-cliff",
   "metadata": {},
   "outputs": [
    {
     "name": "stdout",
     "output_type": "stream",
     "text": [
      "A solution p_cha is\n",
      "[1.11799873e-07 1.55590559e-07 8.44263640e-08 2.34647747e-07\n",
      " 2.61252557e-07 3.13076003e-07 1.90991443e-06 5.81817345e-07\n",
      " 1.54970180e-05 5.00000000e+03 5.00000000e+03 1.31733815e+03\n",
      " 2.94662999e-07 5.57852547e-08 3.06016617e-08 1.27666812e-07\n",
      " 3.91259155e-07 1.53010412e+03 5.00000000e+03 5.00000000e+03\n",
      " 6.04176247e-07 3.86862543e-07 1.04732054e-07 5.11382145e-08]\n",
      "A solution p_dis is\n",
      "[1.25600647e-06 2.26962832e-07 1.87999999e+02 1.55824932e-07\n",
      " 1.63473171e-07 1.60218351e-07 1.14920296e-07 1.35212746e-07\n",
      " 1.10703716e-07 9.37134594e-08 7.85839353e-08 1.08032697e-07\n",
      " 1.75150702e-07 5.00000000e+03 5.00000000e+03 8.30518964e-07\n",
      " 1.58239582e-07 1.10067860e-07 9.78289025e-08 9.82235849e-08\n",
      " 1.39289434e-07 1.59525673e-07 5.00000000e+03 5.00000000e+03]\n",
      "A solution J is\n",
      "[1.99999999e+02 1.99999999e+02 1.11936866e-07 1.66736038e-07\n",
      " 2.38407293e-07 3.62255166e-07 2.03531993e-06 2.43838547e-06\n",
      " 1.68878126e-05 4.70000002e+03 9.40000002e+03 1.06382979e+04\n",
      " 1.06382979e+04 5.31914894e+03 2.49962248e-06 1.73609859e-06\n",
      " 1.93554246e-06 1.43829787e+03 6.13829787e+03 1.08382979e+04\n",
      " 1.08382979e+04 1.08382979e+04 5.51914894e+03 2.00000000e+02]\n"
     ]
    }
   ],
   "source": [
    "### constants\n",
    "# time step currently is ONE HOUR\n",
    "# the day is currently JAN 2nd\n",
    "# number of hours\n",
    "n = 24\n",
    "\n",
    "# power limit\n",
    "p_lim = 5 * 10 ** 3\n",
    "# state of charge max\n",
    "# based off of max from demand data\n",
    "J_max = 2.06 * 10 ** 3\n",
    "J_init = 0.2 * 10 ** 3\n",
    "J_eff = 1\n",
    "# charge efficiency\n",
    "cha_eff = 0.94\n",
    "# discharge efficiency\n",
    "dis_eff = 0.94\n",
    "# power demand for Jan 2nd\n",
    "p_dem = p_dem_df[\"Electricity:Facility [kWh](Hourly)\"][23:47]\n",
    "# power supplied by pv\n",
    "# calculated for Jan 1, using TMYFormatting.ipynb\n",
    "# this is for a 10x10 array (to match other values better)\n",
    "p_pv = [0.0, 0.0, 0.0, 0.0, 0.0, 0.0, 0.0, 0.0, \n",
    "        3.687437411241854, 1887.4678324745719, \n",
    "        1569.092473952668, 7204.08116258169, \n",
    "        2473.208104704921, 1653.8375698519135, \n",
    "        2669.471806669538, 205.99573028765283, \n",
    "        0.0, 0.0, 0.0, 0.0, 0.0, 0.0, 0.0, 0.0]\n",
    "\n",
    "p_cha = cp.Variable(n)\n",
    "p_dis = cp.Variable(n)\n",
    "J = cp.Variable(n, nonneg=True)\n",
    "\n",
    "\n",
    "constraints = [J[0] == J_eff * J_init + cha_eff * p_cha[0] - p_dis[0] / dis_eff]\n",
    "constraints += [J[t] == J_eff * J[t-1] + cha_eff * p_cha[t] - p_dis[t] / dis_eff for t in range(1,n)]\n",
    "constraints += [J[n-1] >= J_init]\n",
    "constraints += [p_cha >= 0]\n",
    "constraints += [p_cha <= p_lim]\n",
    "constraints += [p_dis >= 0]\n",
    "constraints += [p_dis <= p_lim]\n",
    "\n",
    "# convert pandas Series into numpy array\n",
    "_lmp = lmp_oneday.to_numpy()\n",
    "p_dem = p_dem.to_numpy()\n",
    "#J_const = np.array(J_const)\n",
    "\n",
    "p_net = p_dem - p_pv + p_cha - p_dis\n",
    "\n",
    "prob = cp.Problem(cp.Minimize(_lmp.T @ p_net), constraints)\n",
    "\n",
    "prob.solve()\n",
    "print(\"A solution p_cha is\")\n",
    "print(p_cha.value)\n",
    "print(\"A solution p_dis is\")\n",
    "print(p_dis.value)\n",
    "print(\"A solution J is\")\n",
    "print(J.value)\n"
   ]
  },
  {
   "cell_type": "markdown",
   "id": "consolidated-bargain",
   "metadata": {},
   "source": [
    "## Plots"
   ]
  },
  {
   "cell_type": "code",
   "execution_count": 15,
   "id": "agricultural-drink",
   "metadata": {},
   "outputs": [
    {
     "data": {
      "image/png": "[encoded data removed]",
      "text/plain": [
       "<Figure size 648x432 with 2 Axes>"
      ]
     },
     "metadata": {
      "needs_background": "light"
     },
     "output_type": "display_data"
    }
   ],
   "source": [
    "t = np.arange(n)\n",
    "# demand given in kWh\n",
    "p_dem_big = p_dem * 10 ** 3\n",
    "\n",
    "fig,ax = plt.subplots(figsize=(9,6))\n",
    "ax.plot(t, p_cha.value, 'b', label='charging')\n",
    "ax.plot(t, p_dis.value, 'c', label='discharging')\n",
    "ax.plot(t, p_dem_big, 'r', label='demand')\n",
    "ax.plot(t, p_pv, 'm', label='pv')\n",
    "plt.legend()\n",
    "ax.set_xlabel('Time (Hours)')\n",
    "ax2=ax.twinx()\n",
    "ax2.plot(t, _lmp, 'g', label='lmp')\n",
    "ax2.set_ylabel('LMP', color='g')\n",
    "plt.legend(loc='upper right', bbox_to_anchor=(1., 0.8))\n",
    "plt.axis((0, None, 0, None))\n",
    "plt.show()\n"
   ]
  },
  {
   "cell_type": "code",
   "execution_count": 16,
   "id": "consistent-diary",
   "metadata": {},
   "outputs": [
    {
     "name": "stdout",
     "output_type": "stream",
     "text": [
      "Charging                   Discharging              Demand                   LMP\n",
      "1.117998729557896e-07      1.2560064667479196e-06      1.0954725932611      50.17707\n",
      "1.5559055947054432e-07      2.269628318665863e-07      0.81428284432384      48.37496\n",
      "8.442636404992523e-08      187.99999872267557      0.716287112922707      50.48109\n",
      "2.346477466658046e-07      1.5582493198887078e-07      0.682698254822347      42.73274\n",
      "2.6125255658752296e-07      1.634731706420985e-07      0.672265810711454      39.75889\n",
      "3.1307600318418303e-07      1.6021835090425956e-07      0.67463152975952      37.50306\n",
      "1.9099144290187104e-06      1.1492029601710535e-07      0.738510914923556      34.87104\n",
      "5.818173451223744e-07      1.3521274616887564e-07      0.948090636243138      35.25316\n",
      "1.5497018000173354e-05      1.1070371569753318e-07      1.21520920219497      34.23951\n",
      "4999.999999255779      9.371345943536129e-08      1.16430655791825      33.45005\n",
      "4999.999999686445      7.858393528387891e-08      0.992004361042371      32.536159999999995\n",
      "1317.3381477470857      1.0803269666819358e-07      0.997215900447863      34.18892\n",
      "2.9466299859799726e-07      1.7515070217864847e-07      0.961852464807012      35.83031\n",
      "5.578525473541625e-08      4999.999999867936      0.915436768960693      42.6017\n",
      "3.0601661657814243e-08      4999.9999999528545      0.874956917693232      48.40524\n",
      "1.276668115702906e-07      8.305189642830945e-07      0.869259649391572      37.88447\n",
      "3.9125915518300923e-07      1.5823958203571717e-07      0.936971727640949      35.05042\n",
      "1530.104116171753      1.1006786029995084e-07      1.19065644225945      33.5341\n",
      "4999.999999299457      9.782890250270398e-08      1.66483458806882      32.77109\n",
      "4999.999999225461      9.82235849304558e-08      1.92953249373619      32.778240000000004\n",
      "6.041762474720218e-07      1.392894341776889e-07      1.88502903753024      34.2741\n",
      "3.868625432627086e-07      1.595256730542696e-07      1.7637044247746      34.77122\n",
      "1.0473205427631477e-07      4999.999998070551      1.62751850564979      38.17153\n",
      "5.113821450630111e-08      4999.9999998950925      1.3554637192202      42.65265\n"
     ]
    }
   ],
   "source": [
    "# Manually see some of the data shown in the graph above\n",
    "print(\"Charging                   Discharging              Demand                   LMP\")\n",
    "for i in range(n):\n",
    "    print(p_cha.value[i], \"    \", p_dis.value[i], \"    \", p_dem[i], \"    \", _lmp[i])"
   ]
  },
  {
   "cell_type": "code",
   "execution_count": null,
   "id": "informal-jungle",
   "metadata": {},
   "outputs": [],
   "source": []
  }
 ],
 "metadata": {
  "kernelspec": {
   "display_name": "Python 3",
   "language": "python",
   "name": "python3"
  },
  "language_info": {
   "codemirror_mode": {
    "name": "ipython",
    "version": 3
   },
   "file_extension": ".py",
   "mimetype": "text/x-python",
   "name": "python",
   "nbconvert_exporter": "python",
   "pygments_lexer": "ipython3",
   "version": "3.8.5"
  }
 },
 "nbformat": 4,
 "nbformat_minor": 5
}
