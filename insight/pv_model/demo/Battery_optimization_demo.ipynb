{
 "cells": [
  {
   "cell_type": "code",
   "execution_count": 1,
   "id": "confirmed-mattress",
   "metadata": {},
   "outputs": [],
   "source": [
    "## Libraries\n",
    "%matplotlib inline\n",
    "import math\n",
    "import numpy as np\n",
    "import matplotlib.pyplot as plt\n",
    "from insight.pv_model import pv_model_class\n",
    "import cvxpy as cp\n",
    "import pandas as pd\n",
    "import os\n"
   ]
  },
  {
   "cell_type": "code",
   "execution_count": 2,
   "id": "informative-vehicle",
   "metadata": {},
   "outputs": [],
   "source": [
    "# Constants and variables\n",
    "\n",
    "Iscn = 8.21 # nominal short circuit current\n",
    "Vocn = 32.9 # nominal open circuit voltage\n",
    "Imp = 7.61 # array current at MPP\n",
    "Vmp = 26.3 # array voltage at MPP\n",
    "Pmax_e = Vmp * Imp # experimental array max power output\n",
    "Kv = -0.123 # voltage temperature coefficient\n",
    "Ki = 0.0032 # current temperature coefficient\n",
    "Ns = 54 # number of series cells\n",
    "Gn = 1000. # nominal irradiance\n",
    "G = Gn\n",
    "Tn = 25. + 273.15 # nominal operating temperature\n",
    "T = Tn\n",
    "\n",
    "Egap = 1.8 * 10 ** -19 # Bandgap of silicon (silicio cristalino)\n",
    "\n",
    "err = 0.0001\n",
    "inverter = 0.95\n",
    "array_dim = [1, 1]"
   ]
  },
  {
   "cell_type": "code",
   "execution_count": 3,
   "id": "technical-iceland",
   "metadata": {},
   "outputs": [
    {
     "name": "stdout",
     "output_type": "stream",
     "text": [
      "\n",
      "The optimal value is -15.220912605552861\n",
      "A solution x is\n",
      "[-1.10133381 -0.16360111 -0.89734939  0.03216603  0.6069123  -1.12687348\n",
      "  1.12967856  0.88176638  0.49075229  0.8984822 ]\n",
      "A dual solution is\n",
      "[6.98805172e-10 6.11756416e-01 5.28171747e-01 1.07296862e+00\n",
      " 3.93759300e-09 2.30153870e+00 4.25704434e-10 7.61206896e-01\n",
      " 8.36906030e-09 2.49370377e-01 1.30187120e-09 2.06014070e+00\n",
      " 3.22417207e-01 3.84054343e-01 1.59493839e-09]\n"
     ]
    }
   ],
   "source": [
    "### Linear Program Example -- CVXPY\n",
    "\n",
    "m = 15\n",
    "n = 10\n",
    "np.random.seed(1)\n",
    "s0 = np.random.randn(m)\n",
    "lamb0 = np.maximum(-s0, 0)\n",
    "s0 = np.maximum(s0, 0)\n",
    "x0 = np.random.randn(n)\n",
    "A = np.random.randn(m, n)\n",
    "b = A @ x0 + s0\n",
    "c = -A.T @ lamb0\n",
    "\n",
    "# Define and solve the CVXPY problem.\n",
    "x = cp.Variable(n)\n",
    "prob = cp.Problem(cp.Minimize(c.T@x),\n",
    "                 [A @ x <= b])\n",
    "prob.solve()\n",
    "\n",
    "# Print result.\n",
    "print(\"\\nThe optimal value is\", prob.value)\n",
    "print(\"A solution x is\")\n",
    "print(x.value)\n",
    "print(\"A dual solution is\")\n",
    "print(prob.constraints[0].dual_value)\n",
    "\n",
    "\n",
    "## use '@' when doing multiplication between vectors and matrices -- turns them into scalars\n",
    "## use '*' when doing multiplication between scalars and vectors or matrices"
   ]
  },
  {
   "cell_type": "markdown",
   "id": "comparable-portland",
   "metadata": {},
   "source": [
    "## Helpful links:\n",
    "1. https://www.cvxpy.org/tutorial/functions/index.html\n",
    "2. https://www.cvxpy.org/examples/basic/linear_program.html\n"
   ]
  },
  {
   "cell_type": "markdown",
   "id": "muslim-dinner",
   "metadata": {},
   "source": [
    "# charging constraints\n",
    "p_cha >= 0\n",
    "p_cha <= p_lim\n",
    "\n",
    "# dischargin constraints\n",
    "p_dis >= 0\n",
    "p_dis <= p_lim\n",
    "\n",
    "# SOC constraints\n",
    "J >= 0\n",
    "J <= J_max\n"
   ]
  },
  {
   "cell_type": "code",
   "execution_count": 6,
   "id": "consecutive-identification",
   "metadata": {},
   "outputs": [],
   "source": [
    "## getting LMP data, etc\n",
    "\n",
    "df = pd.read_csv(os.path.join(\"..//..//..//data\", \"LMP_data_201801_dalmp_TH_NP15_GEN-APND.csv\"))\n",
    "lmp = df[\"LMP\"]\n",
    "# lmp for Jan 2nd\n",
    "lmp_oneday = lmp[17:41]\n",
    "\n",
    "#df['INTERVALSTARTTIME_GMT'][17]"
   ]
  },
  {
   "cell_type": "code",
   "execution_count": 7,
   "id": "violent-coordinate",
   "metadata": {},
   "outputs": [
    {
     "name": "stdout",
     "output_type": "stream",
     "text": [
      "0.394315391925397\n"
     ]
    }
   ],
   "source": [
    "p_dem_df = pd.read_csv(os.path.join(\"..//..//..//data\", \"Demand_data_USA_WA_Seattle-Tacoma.727930_TMY2.csv\"))\n",
    "\n",
    "print(min(p_dem_df['Electricity:Facility [kWh](Hourly)']))\n",
    "\n",
    "#p_dem_df.head()\n",
    "#p_dem_df['Date/Time'][47]"
   ]
  },
  {
   "cell_type": "code",
   "execution_count": 6,
   "id": "perfect-cliff",
   "metadata": {},
   "outputs": [
    {
     "name": "stdout",
     "output_type": "stream",
     "text": [
      "A solution p_cha is\n",
      "[-6.41600198e-09 -6.12129204e-09 -5.56143340e-09  1.13621242e-07\n",
      "  4.58470297e-07  1.71395480e-06  6.37379998e-06  2.36939174e-05\n",
      "  8.80781978e-05  5.00000033e+03  5.00000031e+03  1.31733030e+03\n",
      "  3.70619255e-04  4.46949484e-04  5.06347770e-04 -2.12267843e-03\n",
      " -8.94665903e-03  1.53123964e+03  4.99995238e+03  4.99993960e+03\n",
      " -7.14061812e-02 -8.03243256e-02 -8.68921961e-02 -9.09176199e-02]\n",
      "A solution p_dis is\n",
      "[ 6.81157741e-09  6.51374911e-09  1.88000000e+02 -1.20892437e-07\n",
      " -4.87802448e-07 -1.82358209e-06 -6.78145923e-06 -2.52093389e-05\n",
      " -9.37115473e-05 -3.48360493e-04 -3.29635218e-04 -2.98024128e-04\n",
      " -3.94323489e-04  4.99999952e+03  4.99999946e+03  2.25844160e-03\n",
      "  9.51887332e-03  3.55955308e-02  5.06699207e-02  6.42617100e-02\n",
      "  7.59732086e-02  8.54617436e-02  5.00009245e+03  5.00009673e+03]\n",
      "A solution J is\n",
      "[2.00000000e+02 2.00000000e+02 1.24378578e-07 3.59937246e-07\n",
      " 1.31035739e-06 4.86336687e-06 1.80761173e-05 6.71931352e-05\n",
      " 2.49777495e-04 4.70000093e+03 9.40000157e+03 1.06382924e+04\n",
      " 1.06382931e+04 5.31914513e+03 0.00000000e+00 0.00000000e+00\n",
      " 0.00000000e+00 1.43930166e+03 6.13920293e+03 1.08390777e+04\n",
      " 1.08389297e+04 1.08387632e+04 5.51943413e+03 2.00096721e+02]\n"
     ]
    }
   ],
   "source": [
    "### constants\n",
    "# time step currently is ONE HOUR\n",
    "# the day is currently JAN 2nd\n",
    "# number of hours\n",
    "n = 24\n",
    "\n",
    "# power limit\n",
    "p_lim = 5 * 10 ** 3\n",
    "# state of charge max\n",
    "# based off of max from demand data\n",
    "J_max = 2.06 * 10 ** 3\n",
    "J_init = 0.2 * 10 ** 3\n",
    "J_eff = 1\n",
    "# charge efficiency\n",
    "cha_eff = 0.94\n",
    "# discharge efficiency\n",
    "dis_eff = 0.94\n",
    "# power demand for Jan 2nd\n",
    "p_dem = p_dem_df[\"Electricity:Facility [kWh](Hourly)\"][23:47]\n",
    "# power supplied by pv\n",
    "# calculated for Jan 1, using TMYFormatting.ipynb\n",
    "# this is for a 10x10 array (to match other values better)\n",
    "p_pv = [0.0, 0.0, 0.0, 0.0, 0.0, 0.0, 0.0, 0.0, \n",
    "        3.687437411241854, 1887.4678324745719, \n",
    "        1569.092473952668, 7204.08116258169, \n",
    "        2473.208104704921, 1653.8375698519135, \n",
    "        2669.471806669538, 205.99573028765283, \n",
    "        0.0, 0.0, 0.0, 0.0, 0.0, 0.0, 0.0, 0.0]\n",
    "\n",
    "p_cha = cp.Variable(n)\n",
    "p_dis = cp.Variable(n)\n",
    "J = cp.Variable(n, nonneg=True)\n",
    "\n",
    "\n",
    "constraints = [J[0] == J_eff * J_init + cha_eff * p_cha[0] - p_dis[0] / dis_eff]\n",
    "constraints += [J[t] == J_eff * J[t-1] + cha_eff * p_cha[t] - p_dis[t] / dis_eff for t in range(1,n)]\n",
    "constraints += [J[n-1] >= J_init]\n",
    "constraints += [p_cha >= 0]\n",
    "constraints += [p_cha <= p_lim]\n",
    "constraints += [p_dis >= 0]\n",
    "constraints += [p_dis <= p_lim]\n",
    "\n",
    "# convert pandas Series into numpy array\n",
    "_lmp = lmp_oneday.to_numpy()\n",
    "p_dem = p_dem.to_numpy()\n",
    "#J_const = np.array(J_const)\n",
    "\n",
    "p_net = p_dem - p_pv + p_cha - p_dis\n",
    "\n",
    "prob = cp.Problem(cp.Minimize(_lmp.T @ p_net), constraints)\n",
    "\n",
    "prob.solve()\n",
    "print(\"A solution p_cha is\")\n",
    "print(p_cha.value)\n",
    "print(\"A solution p_dis is\")\n",
    "print(p_dis.value)\n",
    "print(\"A solution J is\")\n",
    "print(J.value)\n"
   ]
  },
  {
   "cell_type": "markdown",
   "id": "consolidated-bargain",
   "metadata": {},
   "source": [
    "## Plots"
   ]
  },
  {
   "cell_type": "code",
   "execution_count": 7,
   "id": "agricultural-drink",
   "metadata": {},
   "outputs": [
    {
     "data": {
      "image/png": "[encoded data removed]",
      "text/plain": [
       "<Figure size 648x432 with 2 Axes>"
      ]
     },
     "metadata": {
      "needs_background": "light"
     },
     "output_type": "display_data"
    }
   ],
   "source": [
    "t = np.arange(n)\n",
    "# demand given in kWh\n",
    "p_dem_big = p_dem * 10 ** 3\n",
    "\n",
    "fig,ax = plt.subplots(figsize=(9,6))\n",
    "ax.plot(t, p_cha.value, 'b', label='charging')\n",
    "ax.plot(t, p_dis.value, 'c', label='discharging')\n",
    "ax.plot(t, p_dem_big, 'r', label='demand')\n",
    "ax.plot(t, p_pv, 'm', label='pv')\n",
    "plt.legend()\n",
    "ax.set_xlabel('Time (Hours)')\n",
    "ax2=ax.twinx()\n",
    "ax2.plot(t, _lmp, 'g', label='lmp')\n",
    "ax2.set_ylabel('LMP', color='g')\n",
    "plt.legend(loc='upper right', bbox_to_anchor=(1., 0.8))\n",
    "plt.axis((0, None, 0, None))\n",
    "plt.show()\n"
   ]
  },
  {
   "cell_type": "code",
   "execution_count": 8,
   "id": "consistent-diary",
   "metadata": {},
   "outputs": [
    {
     "name": "stdout",
     "output_type": "stream",
     "text": [
      "Charging                   Discharging              Demand                   LMP\n",
      "-6.41600197510941e-09      6.811577407924972e-09      1.0954725932610998      50.17707\n",
      "-6.1212920351933515e-09      6.513749109293112e-09      0.81428284432384      48.37496\n",
      "-5.561433396225986e-09      187.99999985373412      0.7162871129227071      50.48109\n",
      "1.1362124187398119e-07      -1.208924371972077e-07      0.682698254822347      42.73274\n",
      "4.584702971711565e-07      -4.878024482617896e-07      0.672265810711454      39.75889\n",
      "1.7139547968541065e-06      -1.8235820933208626e-06      0.67463152975952      37.50306\n",
      "6.373799980045767e-06      -6.781459230066245e-06      0.7385109149235558      34.87104\n",
      "2.3693917440976757e-05      -2.5209338877284255e-05      0.9480906362431378      35.25316\n",
      "8.807819776034297e-05      -9.37115472523086e-05      1.2152092021949699      34.23951\n",
      "5000.000327419255      -0.0003483604933666558      1.1643065579182499      33.45005\n",
      "5000.000309819638      -0.0003296352180146538      0.992004361042371      32.536159999999995\n",
      "1317.330302448594      -0.00029802412754539984      0.9972159004478629      34.18892\n",
      "0.00037061925450502956      -0.0003943234886925201      0.961852464807012      35.83031\n",
      "0.0004469494837220327      4999.999524464316      0.915436768960693      42.6017\n",
      "0.0005063477698231716      4999.999461267023      0.874956917693232      48.40524\n",
      "-0.0021226784269847247      0.002258441603866395      0.8692596493915721      37.88447\n",
      "-0.008946659033499886      0.0095188733179614      0.936971727640949      35.05042\n",
      "1531.2396403805003      0.035595530811209086      1.1906564422594499      33.5341\n",
      "4999.952376033501      0.05066992073679982      1.66483458806882      32.77109\n",
      "4999.9396012964025      0.06426171000208691      1.92953249373619      32.778240000000004\n",
      "-0.0714061812261754      0.07597320863683037      1.88502903753024      34.2741\n",
      "-0.0803243256068639      0.08546174355777668      1.7637044247745999      34.77122\n",
      "-0.08689219605065727      5000.092449684701      1.62751850564979      38.17153\n",
      "-0.0909176198787249      5000.096732568317      1.3554637192202      42.65265\n"
     ]
    }
   ],
   "source": [
    "print(\"Charging                   Discharging              Demand                   LMP\")\n",
    "for i in range(n):\n",
    "    print(p_cha.value[i], \"    \", p_dis.value[i], \"    \", p_dem[i], \"    \", _lmp[i])"
   ]
  },
  {
   "cell_type": "code",
   "execution_count": null,
   "id": "laden-simon",
   "metadata": {},
   "outputs": [],
   "source": []
  }
 ],
 "metadata": {
  "kernelspec": {
   "display_name": "Python 3",
   "language": "python",
   "name": "python3"
  },
  "language_info": {
   "codemirror_mode": {
    "name": "ipython",
    "version": 3
   },
   "file_extension": ".py",
   "mimetype": "text/x-python",
   "name": "python",
   "nbconvert_exporter": "python",
   "pygments_lexer": "ipython3",
   "version": "3.8.5"
  }
 },
 "nbformat": 4,
 "nbformat_minor": 5
}
