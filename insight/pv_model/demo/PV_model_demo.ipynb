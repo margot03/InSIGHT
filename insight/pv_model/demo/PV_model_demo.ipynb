{
 "cells": [
  {
   "cell_type": "code",
   "execution_count": 8,
   "id": "entire-armor",
   "metadata": {},
   "outputs": [
    {
     "name": "stdout",
     "output_type": "stream",
     "text": [
      "done\n"
     ]
    }
   ],
   "source": [
    "## Libraries\n",
    "%matplotlib inline\n",
    "import math\n",
    "import numpy as np\n",
    "import matplotlib.pyplot as plt\n",
    "from insight.pv_model import pv_model_class as pv_model\n",
    "print('done')"
   ]
  },
  {
   "cell_type": "code",
   "execution_count": 9,
   "id": "young-slovakia",
   "metadata": {},
   "outputs": [
    {
     "name": "stdout",
     "output_type": "stream",
     "text": [
      "done\n"
     ]
    }
   ],
   "source": [
    "# Constants and variables\n",
    "\n",
    "Iscn = 8.21 # nominal short circuit current\n",
    "Vocn = 32.9 # nominal open circuit voltage\n",
    "Imp = 7.61 # array current at MPP\n",
    "Vmp = 26.3 # array voltage at MPP\n",
    "Pmax_e = Vmp * Imp # experimental array max power output\n",
    "Kv = -0.123 # voltage temperature coefficient\n",
    "Ki = 0.0032 # current temperature coefficient\n",
    "Ns = 54 # number of series cells\n",
    "Gn = 1000. # nominal irradiance\n",
    "G = Gn\n",
    "Tn = 25. + 273.15 # nominal operating temperature\n",
    "T = Tn\n",
    "\n",
    "Egap = 1.8 * 10 ** -19 # Bandgap of silicon (silicio cristalino)\n",
    "print('done')"
   ]
  },
  {
   "cell_type": "code",
   "execution_count": 10,
   "id": "short-opinion",
   "metadata": {},
   "outputs": [
    {
     "name": "stdout",
     "output_type": "stream",
     "text": [
      "start\n"
     ]
    },
    {
     "ename": "TypeError",
     "evalue": "__init__() missing 3 required positional arguments: 'err', 'inverter', and 'array_dim'",
     "output_type": "error",
     "traceback": [
      "\u001b[0;31m---------------------------------------------------------------------------\u001b[0m",
      "\u001b[0;31mTypeError\u001b[0m                                 Traceback (most recent call last)",
      "\u001b[0;32m<ipython-input-10-af9b906f4aec>\u001b[0m in \u001b[0;36m<module>\u001b[0;34m\u001b[0m\n\u001b[1;32m      2\u001b[0m \u001b[0mprint\u001b[0m\u001b[0;34m(\u001b[0m\u001b[0;34m'start'\u001b[0m\u001b[0;34m)\u001b[0m\u001b[0;34m\u001b[0m\u001b[0;34m\u001b[0m\u001b[0m\n\u001b[1;32m      3\u001b[0m \u001b[0;31m# initialize model object, using default parameters for err, inverter_eff, and array_dim\u001b[0m\u001b[0;34m\u001b[0m\u001b[0;34m\u001b[0m\u001b[0;34m\u001b[0m\u001b[0m\n\u001b[0;32m----> 4\u001b[0;31m \u001b[0mpv_mod\u001b[0m \u001b[0;34m=\u001b[0m \u001b[0mpv_model\u001b[0m\u001b[0;34m.\u001b[0m\u001b[0mPvModel\u001b[0m\u001b[0;34m(\u001b[0m\u001b[0mIscn\u001b[0m\u001b[0;34m,\u001b[0m \u001b[0mVocn\u001b[0m\u001b[0;34m,\u001b[0m \u001b[0mImp\u001b[0m\u001b[0;34m,\u001b[0m \u001b[0mVmp\u001b[0m\u001b[0;34m,\u001b[0m \u001b[0mKv\u001b[0m\u001b[0;34m,\u001b[0m \u001b[0mKi\u001b[0m\u001b[0;34m,\u001b[0m \u001b[0mNs\u001b[0m\u001b[0;34m,\u001b[0m \u001b[0mGn\u001b[0m\u001b[0;34m,\u001b[0m \u001b[0mG\u001b[0m\u001b[0;34m,\u001b[0m \u001b[0mTn\u001b[0m\u001b[0;34m,\u001b[0m \u001b[0mT\u001b[0m\u001b[0;34m,\u001b[0m \u001b[0mEgap\u001b[0m\u001b[0;34m)\u001b[0m\u001b[0;34m\u001b[0m\u001b[0;34m\u001b[0m\u001b[0m\n\u001b[0m\u001b[1;32m      5\u001b[0m \u001b[0;31m# find resistor values and diode ideality constant\u001b[0m\u001b[0;34m\u001b[0m\u001b[0;34m\u001b[0m\u001b[0;34m\u001b[0m\u001b[0m\n\u001b[1;32m      6\u001b[0m \u001b[0mRs\u001b[0m\u001b[0;34m,\u001b[0m \u001b[0mRp\u001b[0m\u001b[0;34m,\u001b[0m \u001b[0ma\u001b[0m \u001b[0;34m=\u001b[0m \u001b[0mpv_mod\u001b[0m\u001b[0;34m.\u001b[0m\u001b[0mfind_resistors\u001b[0m\u001b[0;34m(\u001b[0m\u001b[0;34m)\u001b[0m\u001b[0;34m\u001b[0m\u001b[0;34m\u001b[0m\u001b[0m\n",
      "\u001b[0;31mTypeError\u001b[0m: __init__() missing 3 required positional arguments: 'err', 'inverter', and 'array_dim'"
     ]
    }
   ],
   "source": [
    "# Nominal PV model\n",
    "print('start')\n",
    "# initialize model object, using default parameters for err, inverter_eff, and array_dim\n",
    "pv_mod = pv_model.PvModel(Iscn, Vocn, Imp, Vmp, Kv, Ki, Ns, Gn, G, Tn, T, Egap)\n",
    "# find resistor values and diode ideality constant\n",
    "Rs, Rp, a = pv_mod.find_resistors()\n",
    "# find voltage, current, and power arrays\n",
    "v, i, P = pv_mod.calculate_power(Rs, Rp, a)\n",
    "\n",
    "# plot IV and PV curves\n",
    "pv_mod._plot(v, i, 'Voltage (V)', 'Current (A)', 'I-V curve')\n",
    "pv_mod._plot(v, P, 'Voltage (V)', 'Power (W)', 'P-V curve')\n",
    "\n",
    "# find maximum power point\n",
    "P_max = np.argmax(P)\n",
    "print('Maximum Power:', P[P_max])\n",
    "print('Maximum v, i:', v[P_max],\",\",i[P_max])"
   ]
  },
  {
   "cell_type": "code",
   "execution_count": 4,
   "id": "alert-massage",
   "metadata": {},
   "outputs": [
    {
     "ename": "NameError",
     "evalue": "name 'err' is not defined",
     "output_type": "error",
     "traceback": [
      "\u001b[0;31m---------------------------------------------------------------------------\u001b[0m",
      "\u001b[0;31mNameError\u001b[0m                                 Traceback (most recent call last)",
      "\u001b[0;32m<ipython-input-4-0419c8dfe358>\u001b[0m in \u001b[0;36m<module>\u001b[0;34m\u001b[0m\n\u001b[1;32m      1\u001b[0m \u001b[0;31m## Sensitivity analysis: Varying Irradiances\u001b[0m\u001b[0;34m\u001b[0m\u001b[0;34m\u001b[0m\u001b[0;34m\u001b[0m\u001b[0m\n\u001b[1;32m      2\u001b[0m \u001b[0;34m\u001b[0m\u001b[0m\n\u001b[0;32m----> 3\u001b[0;31m \u001b[0mpv_mod_g1\u001b[0m \u001b[0;34m=\u001b[0m \u001b[0mpv_model_class\u001b[0m\u001b[0;34m.\u001b[0m\u001b[0mPvModel\u001b[0m\u001b[0;34m(\u001b[0m\u001b[0mIscn\u001b[0m\u001b[0;34m,\u001b[0m \u001b[0mVocn\u001b[0m\u001b[0;34m,\u001b[0m \u001b[0mImp\u001b[0m\u001b[0;34m,\u001b[0m \u001b[0mVmp\u001b[0m\u001b[0;34m,\u001b[0m \u001b[0mKv\u001b[0m\u001b[0;34m,\u001b[0m \u001b[0mKi\u001b[0m\u001b[0;34m,\u001b[0m \u001b[0mNs\u001b[0m\u001b[0;34m,\u001b[0m \u001b[0mGn\u001b[0m\u001b[0;34m,\u001b[0m \u001b[0;36m800\u001b[0m\u001b[0;34m,\u001b[0m \u001b[0mTn\u001b[0m\u001b[0;34m,\u001b[0m \u001b[0mTn\u001b[0m\u001b[0;34m,\u001b[0m \u001b[0mEgap\u001b[0m\u001b[0;34m,\u001b[0m \u001b[0merr\u001b[0m\u001b[0;34m,\u001b[0m \u001b[0minverter_eff\u001b[0m\u001b[0;34m,\u001b[0m \u001b[0marray_dim\u001b[0m\u001b[0;34m)\u001b[0m\u001b[0;34m\u001b[0m\u001b[0;34m\u001b[0m\u001b[0m\n\u001b[0m\u001b[1;32m      4\u001b[0m \u001b[0mpv_mod_g2\u001b[0m \u001b[0;34m=\u001b[0m \u001b[0mpv_model_class\u001b[0m\u001b[0;34m.\u001b[0m\u001b[0mPvModel\u001b[0m\u001b[0;34m(\u001b[0m\u001b[0mIscn\u001b[0m\u001b[0;34m,\u001b[0m \u001b[0mVocn\u001b[0m\u001b[0;34m,\u001b[0m \u001b[0mImp\u001b[0m\u001b[0;34m,\u001b[0m \u001b[0mVmp\u001b[0m\u001b[0;34m,\u001b[0m \u001b[0mKv\u001b[0m\u001b[0;34m,\u001b[0m \u001b[0mKi\u001b[0m\u001b[0;34m,\u001b[0m \u001b[0mNs\u001b[0m\u001b[0;34m,\u001b[0m \u001b[0mGn\u001b[0m\u001b[0;34m,\u001b[0m \u001b[0;36m600\u001b[0m\u001b[0;34m,\u001b[0m \u001b[0mTn\u001b[0m\u001b[0;34m,\u001b[0m \u001b[0mTn\u001b[0m\u001b[0;34m,\u001b[0m \u001b[0mEgap\u001b[0m\u001b[0;34m,\u001b[0m \u001b[0merr\u001b[0m\u001b[0;34m,\u001b[0m \u001b[0minverter_eff\u001b[0m\u001b[0;34m,\u001b[0m \u001b[0marray_dim\u001b[0m\u001b[0;34m)\u001b[0m\u001b[0;34m\u001b[0m\u001b[0;34m\u001b[0m\u001b[0m\n\u001b[1;32m      5\u001b[0m \u001b[0mpv_mod_g3\u001b[0m \u001b[0;34m=\u001b[0m \u001b[0mpv_model_class\u001b[0m\u001b[0;34m.\u001b[0m\u001b[0mPvModel\u001b[0m\u001b[0;34m(\u001b[0m\u001b[0mIscn\u001b[0m\u001b[0;34m,\u001b[0m \u001b[0mVocn\u001b[0m\u001b[0;34m,\u001b[0m \u001b[0mImp\u001b[0m\u001b[0;34m,\u001b[0m \u001b[0mVmp\u001b[0m\u001b[0;34m,\u001b[0m \u001b[0mKv\u001b[0m\u001b[0;34m,\u001b[0m \u001b[0mKi\u001b[0m\u001b[0;34m,\u001b[0m \u001b[0mNs\u001b[0m\u001b[0;34m,\u001b[0m \u001b[0mGn\u001b[0m\u001b[0;34m,\u001b[0m \u001b[0;36m400\u001b[0m\u001b[0;34m,\u001b[0m \u001b[0mTn\u001b[0m\u001b[0;34m,\u001b[0m \u001b[0mTn\u001b[0m\u001b[0;34m,\u001b[0m \u001b[0mEgap\u001b[0m\u001b[0;34m,\u001b[0m \u001b[0merr\u001b[0m\u001b[0;34m,\u001b[0m \u001b[0minverter_eff\u001b[0m\u001b[0;34m,\u001b[0m \u001b[0marray_dim\u001b[0m\u001b[0;34m)\u001b[0m\u001b[0;34m\u001b[0m\u001b[0;34m\u001b[0m\u001b[0m\n",
      "\u001b[0;31mNameError\u001b[0m: name 'err' is not defined"
     ]
    }
   ],
   "source": [
    "## Sensitivity analysis: Varying Irradiances\n",
    "\n",
    "pv_mod_g1 = pv_model_class.PvModel(Iscn, Vocn, Imp, Vmp, Kv, Ki, Ns, Gn, 800, Tn, Tn, Egap, err, inverter_eff, array_dim)\n",
    "pv_mod_g2 = pv_model_class.PvModel(Iscn, Vocn, Imp, Vmp, Kv, Ki, Ns, Gn, 600, Tn, Tn, Egap, err, inverter_eff, array_dim)\n",
    "pv_mod_g3 = pv_model_class.PvModel(Iscn, Vocn, Imp, Vmp, Kv, Ki, Ns, Gn, 400, Tn, Tn, Egap, err, inverter_eff, array_dim)\n",
    "v_g1, i_g1, P_g1 = pv_mod_g1.calculate_power(Rs, Rp, a)\n",
    "v_g2, i_g2, P_g2 = pv_mod_g2.calculate_power(Rs, Rp, a)\n",
    "v_g3, i_g3, P_g3 = pv_mod_g3.calculate_power(Rs, Rp, a)\n",
    "\n",
    "plt.plot(v, i, 'b', label='G = 1000')\n",
    "plt.plot(v_g1, i_g1, 'g', label='G = 800')\n",
    "plt.plot(v_g2, i_g2, 'r', label='G = 600')\n",
    "plt.plot(v_g3, i_g3, 'y', label='G = 400')\n",
    "plt.xlabel('Voltage')\n",
    "plt.ylabel('Current')\n",
    "plt.title('I-V Curve with Varying Irradiances')\n",
    "plt.legend()\n",
    "plt.axis((0, None, 0, None))\n",
    "plt.show()"
   ]
  },
  {
   "cell_type": "code",
   "execution_count": null,
   "id": "varied-discovery",
   "metadata": {},
   "outputs": [],
   "source": [
    "## Sensitivity analysis: Varying Temperatures\n",
    "\n",
    "pv_mod_t1 = pv_model_class.PvModel(Iscn, Vocn, Imp, Vmp, Kv, Ki, Ns, Gn, Gn, Tn, 50 + 273.15, Egap, err, inverter_eff, array_dim)\n",
    "pv_mod_t2 = pv_model_class.PvModel(Iscn, Vocn, Imp, Vmp, Kv, Ki, Ns, Gn, Gn, Tn, 75 + 273.15, Egap, err, inverter_eff, array_dim)\n",
    "v_t1, i_t1, P_t1 = pv_mod_t1.calculate_power(Rs, Rp, a)\n",
    "v_t2, i_t2, P_t2 = pv_mod_t2.calculate_power(Rs, Rp, a)\n",
    "\n",
    "plt.plot(v, i, 'b', label='T = 25 C')\n",
    "plt.plot(v_t1, i_t1, 'g', label='T = 50 C')\n",
    "plt.plot(v_t2, i_t2, 'r', label='T = 75 C')\n",
    "plt.xlabel('Voltage')\n",
    "plt.ylabel('Current')\n",
    "plt.title('I-V Curve with Varying Temperatures')\n",
    "plt.legend()\n",
    "plt.axis((0, None, 0, None))\n",
    "plt.show()\n",
    "\n",
    "P_max = np.argmax(P_t1)\n",
    "print('Maximum Power:', P[P_max])\n",
    "print('Maximum v, i:', v_t1[P_max],\",\",i_t1[P_max])\n",
    "\n",
    "P_max = np.argmax(P_t2)\n",
    "print('Maximum Power:', P[P_max])\n",
    "print('Maximum v, i:', v_t2[P_max],\",\",i_t2[P_max])"
   ]
  },
  {
   "cell_type": "code",
   "execution_count": null,
   "id": "stuffed-module",
   "metadata": {},
   "outputs": [],
   "source": [
    "pv_mod = pv_model_class.PvModel(Iscn, Vocn, Imp, Vmp, Kv, Ki, Ns, Gn, G, Tn, T, Egap, err, inverter_eff, array_dim)\n",
    "Rs, Rp, a = pv_mod.find_resistors()\n",
    "\n",
    "# Config 0: one module\n",
    "v, i, P = pv_mod.calculate_power(Rs, Rp, a)\n",
    "\n",
    "# Config 1: two identical modules in parallel (nominal)\n",
    "v_array1 = v\n",
    "i_array1 = i * 2\n",
    "\n",
    "# Config 2: two identical modules in series (nominal)\n",
    "v_array2 = v * 2\n",
    "i_array2 = i \n",
    "\n",
    "# Config 3: two strings of identical modules (with two in series) in parallel\n",
    "v_array3 = v * 2\n",
    "i_array3 = i * 2\n",
    "\n",
    "# Config 3: three strings of identical modules (with two in series) in parallel\n",
    "v_array4 = v * 2\n",
    "i_array4 = i * 3\n"
   ]
  },
  {
   "cell_type": "code",
   "execution_count": null,
   "id": "latin-hepatitis",
   "metadata": {},
   "outputs": [],
   "source": [
    "plt.plot(v, i, 'b', label='Config 0')\n",
    "plt.plot(v_array1, i_array1, 'g', label='Config 1')\n",
    "plt.plot(v_array2, i_array2, 'r', label='Config 2')\n",
    "plt.plot(v_array3, i_array3, 'y', label='Config 3')\n",
    "plt.plot(v_array4, i_array4, 'm', label='Config 4')\n",
    "plt.xlabel('Voltage')\n",
    "plt.ylabel('Current')\n",
    "plt.title('I-V Curves with Varying Configurations')\n",
    "plt.legend()\n",
    "plt.axis((0, None, 0, None))\n",
    "plt.show()\n"
   ]
  },
  {
   "cell_type": "code",
   "execution_count": null,
   "id": "emotional-irish",
   "metadata": {},
   "outputs": [],
   "source": []
  }
 ],
 "metadata": {
  "kernelspec": {
   "display_name": "Python 3",
   "language": "python",
   "name": "python3"
  },
  "language_info": {
   "codemirror_mode": {
    "name": "ipython",
    "version": 3
   },
   "file_extension": ".py",
   "mimetype": "text/x-python",
   "name": "python",
   "nbconvert_exporter": "python",
   "pygments_lexer": "ipython3",
   "version": "3.8.5"
  }
 },
 "nbformat": 4,
 "nbformat_minor": 5
}
