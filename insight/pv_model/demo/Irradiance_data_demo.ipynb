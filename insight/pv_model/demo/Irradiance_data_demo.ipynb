{
 "cells": [
  {
   "cell_type": "code",
   "execution_count": 1,
   "id": "viral-export",
   "metadata": {},
   "outputs": [],
   "source": [
    "## Libraries\n",
    "%matplotlib inline\n",
    "import math\n",
    "import numpy as np\n",
    "import matplotlib.pyplot as plt\n",
    "from insight.pv_model import pv_model_class\n",
    "import pandas as pd\n",
    "import os"
   ]
  },
  {
   "cell_type": "code",
   "execution_count": 2,
   "id": "narrative-batman",
   "metadata": {},
   "outputs": [],
   "source": [
    "# Constants and variables\n",
    "\n",
    "Iscn = 8.21 # nominal short circuit current\n",
    "Vocn = 32.9 # nominal open circuit voltage\n",
    "Imp = 7.61 # array current at MPP\n",
    "Vmp = 26.3 # array voltage at MPP\n",
    "Pmax_e = Vmp * Imp # experimental array max power output\n",
    "Kv = -0.123 # voltage temperature coefficient\n",
    "Ki = 0.0032 # current temperature coefficient\n",
    "Ns = 54 # number of series cells\n",
    "Gn = 1000. # nominal irradiance\n",
    "G = Gn\n",
    "Tn = 25. + 273.15 # nominal operating temperature\n",
    "T = Tn\n",
    "\n",
    "Egap = 1.8 * 10 ** -19 # Bandgap of silicon (silicio cristalino)"
   ]
  },
  {
   "cell_type": "code",
   "execution_count": 3,
   "id": "vietnamese-decimal",
   "metadata": {},
   "outputs": [
    {
     "name": "stderr",
     "output_type": "stream",
     "text": [
      "/Users/margotadam/opt/anaconda3/envs/real_modeling/lib/python3.8/site-packages/IPython/core/interactiveshell.py:3155: DtypeWarning: Columns (0,1,2,3,4,5,6,7,8,9,10,11,12,13,14,15,16,17,18,19,20,21,22,23,25,26,27,28,29,30,31,32,33,34,35,36,37,39,40,41,42,43,45) have mixed types.Specify dtype option on import or set low_memory=False.\n",
      "  has_raised = await self.run_ast_nodes(code_ast.body, cell_name,\n"
     ]
    }
   ],
   "source": [
    "df = pd.read_csv(os.path.join(\"..//..//..//data\", \"TMY_data_242127_47.69_-121.10_2015.csv\"))\n"
   ]
  },
  {
   "cell_type": "code",
   "execution_count": 4,
   "id": "green-upgrade",
   "metadata": {},
   "outputs": [
    {
     "data": {
      "text/plain": [
       "'14'"
      ]
     },
     "execution_count": 4,
     "metadata": {},
     "output_type": "execute_result"
    }
   ],
   "source": [
    "new_header = df.iloc[1]\n",
    "tmy = df[2:]\n",
    "tmy.columns = new_header\n",
    "tmy = tmy.dropna(axis=1)\n",
    "tmy['Hour'][30]"
   ]
  },
  {
   "cell_type": "code",
   "execution_count": 5,
   "id": "handy-chemistry",
   "metadata": {},
   "outputs": [],
   "source": [
    "tmy_july = tmy[(tmy['Month'] == '7') & (tmy['Day'] == '3')]\n",
    "tmy_jan = tmy[(tmy['Month'] == '1') & (tmy['Day'] == '2')]\n"
   ]
  },
  {
   "cell_type": "code",
   "execution_count": 6,
   "id": "human-tonight",
   "metadata": {},
   "outputs": [
    {
     "name": "stdout",
     "output_type": "stream",
     "text": [
      "250.4324849782308\n"
     ]
    }
   ],
   "source": [
    "### Equations from Masters textbook (table 4.1 and table 4.2)\n",
    "DNI = int(tmy['DNI'][12795])\n",
    "DHI = int(tmy['DHI'][12795])\n",
    "GHI = int(tmy['GHI'][12795])\n",
    "\n",
    "# ground reflectance\n",
    "rho = 0.2\n",
    "# number of days\n",
    "#month = int(tmy['Month'][12795])\n",
    "#day = int(tmy['Day'][12795])\n",
    "#n = (30*month - 30) + day\n",
    "\n",
    "# calculated by hand for 9/24\n",
    "n = 267\n",
    "# hour\n",
    "hour = int(tmy['Hour'][12795])\n",
    "# latitude\n",
    "lat = 47.69\n",
    "# collector azimuth\n",
    "az_c = 0\n",
    "# collector tilt angle\n",
    "sigma = lat * 0.76 + 3.1\n",
    "# declination\n",
    "decl = 23.45 * np.sin(360/365 * (n - 81))\n",
    "# hour angle\n",
    "H = 15 * (12 - hour)\n",
    "# solar altitude\n",
    "beta = np.arcsin(np.cos(lat) * np.cos(decl) * np.cos(H) + np.sin(lat) * np.sin(decl))\n",
    "# solar azimuth\n",
    "az_s = np.arcsin(np.cos(decl) * np.sin(H) / np.cos(beta))\n",
    "\n",
    "cos_theta = np.cos(beta) * np.cos(az_s - az_c) * np.sin(sigma) + np.sin(beta) * np.cos(sigma)\n",
    "B = DNI * cos_theta\n",
    "D = DHI * (1 + np.cos(sigma)) / 2\n",
    "R = GHI * rho * (1 - np.cos(sigma)) / 2\n",
    "G = B + D + R\n",
    "print(G)"
   ]
  },
  {
   "cell_type": "code",
   "execution_count": 7,
   "id": "renewable-london",
   "metadata": {},
   "outputs": [
    {
     "name": "stdout",
     "output_type": "stream",
     "text": [
      "[22228.575, 22228.575, 22228.575, 22228.575, 22228.575, 22228.575, 22228.575, 22228.575, 22462.56, 2099.2417959860422, 1752.6604156572228, 7584.566074977145, 2727.722742408497, 1845.3237469526841, 2936.1913435525116, 207.41012488037265, 22228.575, 22228.575, 22228.575, 22228.575, 22228.575, 22228.575, 22228.575, 22228.575]\n"
     ]
    }
   ],
   "source": [
    "## Calculating maximum power point for the PV model for consecutive hours throughout a day\n",
    "\n",
    "pv_mod = pv_model_class.PvModel(Iscn, Vocn, Imp, Vmp, Kv, Ki, Ns, Gn, G, Tn, T, Egap)\n",
    "# find resistor values and diode ideality constant\n",
    "Rs, Rp, a = pv_mod.find_resistors()\n",
    "# find voltage, current, and power arrays\n",
    "v, i, P = pv_mod.calculate_power(Rs, Rp, a)\n",
    "# set array size to be 10x10\n",
    "pv_mod.array_dim = [10,10]\n",
    "max_power = []\n",
    "\n",
    "# calculate day number\n",
    "#    ex. 7/3 -> 184\n",
    "n = 2 # January 2nd\n",
    "# ground reflectance (fixed constant)\n",
    "rho = 0.2\n",
    "# latitude (for Seattle)\n",
    "lat = 47.69\n",
    "# collector azimuth,\n",
    "# can either get from the dataset or assume 0\n",
    "az_c = 0\n",
    "# collector tilt angle (fixed equation)\n",
    "sigma = lat * 0.76 + 3.1\n",
    "\n",
    "for i in range(2, 24*2 + 2, 2):\n",
    "    # i is index of the dataset for the hour we want\n",
    "    \n",
    "    # shift to get to month of July 3rd\n",
    "    # i += 8786\n",
    "    \n",
    "    # shift to get to Jan 2nd\n",
    "    i += 50\n",
    "    hour = int(tmy['Hour'][i])\n",
    "    \n",
    "    DNI = int(tmy['DNI'][i])\n",
    "    DHI = int(tmy['DHI'][i])\n",
    "    GHI = int(tmy['GHI'][i])\n",
    "    pv_mod.G = pv_mod.find_irradiance(DNI, DHI, GHI, rho, n, hour, lat, az_c, sigma)\n",
    "    \n",
    "    v, i, P = pv_mod.calculate_power(Rs, Rp, a)\n",
    "    max_idx = np.argmax(P)\n",
    "    if P[max_idx] < 0.001:\n",
    "        P[max_idx] = 0\n",
    "    max_power.append(P[max_idx])\n",
    "\n",
    "# each index of max_power represents one hour of the day\n",
    "print(max_power)"
   ]
  },
  {
   "cell_type": "code",
   "execution_count": null,
   "id": "floral-blake",
   "metadata": {},
   "outputs": [],
   "source": []
  }
 ],
 "metadata": {
  "kernelspec": {
   "display_name": "Python 3",
   "language": "python",
   "name": "python3"
  },
  "language_info": {
   "codemirror_mode": {
    "name": "ipython",
    "version": 3
   },
   "file_extension": ".py",
   "mimetype": "text/x-python",
   "name": "python",
   "nbconvert_exporter": "python",
   "pygments_lexer": "ipython3",
   "version": "3.8.5"
  }
 },
 "nbformat": 4,
 "nbformat_minor": 5
}
