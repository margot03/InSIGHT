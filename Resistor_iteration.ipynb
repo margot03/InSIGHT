{
 "cells": [
  {
   "cell_type": "code",
   "execution_count": 1,
   "id": "loaded-promotion",
   "metadata": {},
   "outputs": [],
   "source": [
    "%matplotlib inline\n",
    "import math\n",
    "import numpy as np\n",
    "import matplotlib.pyplot as plt\n",
    "import pv_model_210131 as pv\n",
    "import pv_model_class\n"
   ]
  },
  {
   "cell_type": "code",
   "execution_count": 11,
   "id": "ideal-proceeding",
   "metadata": {},
   "outputs": [],
   "source": [
    "# Constants and variables\n",
    "\n",
    "Iscn = 8.21 #8.7 # nominal short circuit current\n",
    "Vocn = 32.9 #37.7 # nominal open circuit voltage\n",
    "Imp = 7.61 #8.2 # array current at MPP\n",
    "Vmp = 26.3 #30.1 # array voltage at MPP\n",
    "Pmax_e = Vmp * Imp # experimental array max power output\n",
    "Kv = -0.123 #-0.32/100 * Vocn # voltage temperature coefficient\n",
    "Ki = 0.0032 #-0.032/100 * Iscn # current temperature coefficient\n",
    "Ns = 54 #60. # number of series cells\n",
    "Gn = 1000. # nominal irradiance\n",
    "Tn = 25. + 273.15 # nominal operating temperature\n",
    "\n",
    "Egap = 1.8 * 10 ** -19 # Bandgap of silicon (silicio cristalino)\n",
    "\n",
    "q = 1.602 * 10 ** -19 # charge on electron\n",
    "k = 1.3806503 * 10 ** -23 # boltzmann constant\n",
    "err = 0.001\n"
   ]
  },
  {
   "cell_type": "code",
   "execution_count": 14,
   "id": "regulated-police",
   "metadata": {},
   "outputs": [
    {
     "name": "stdout",
     "output_type": "stream",
     "text": [
      "0.223 412.19607122515566 1.3\n",
      "200.1435799356833 0.0005799356833051661\n"
     ]
    }
   ],
   "source": [
    "# Main code block for developing iterative appraoch to\n",
    "# solving for Rs, Rp, and `a`\n",
    "\n",
    "G = Gn \n",
    "T = Tn \n",
    "Vtn = k * Tn / q\n",
    "Vt = k * T / q\n",
    "deltaT = T - Tn\n",
    "\n",
    "# Hard coding a to 1.3 (and taking out a equation) gets correct results\n",
    "a = 1.3\n",
    "\n",
    "Rs_max = (Vocn - Vmp) / Imp\n",
    "Rp_min = Vmp / (Iscn - Imp) - Rs_max\n",
    "\n",
    "Rp = Rp_min\n",
    "Rs_vals = np.arange(0, Rs_max, 0.001)\n",
    "itr = 0\n",
    "v = np.arange(0.1, Vocn, 0.1)\n",
    "#i = np.arange(Iscn, 0, -0.1)\n",
    "i = np.zeros_like(v)\n",
    "\n",
    "p_dif = Pmax_e\n",
    "Rp_prev = Rp\n",
    "\n",
    "itr1 = 0\n",
    "\n",
    "while p_dif >= err and itr < len(v):\n",
    "    #print(\"outer\")\n",
    "    Rs = Rs_vals[itr]\n",
    "    \n",
    "    Ipvn = Iscn * (Rs+Rp)/Rp \n",
    "    Ipv = (Ipvn + Ki*deltaT) * G/Gn\n",
    "    Isc = (Iscn + Ki*deltaT) * G/Gn\n",
    "    I0n = (Ipv - Vocn/Rp) / (math.exp(Vocn/Vt/a/Ns)-1)\n",
    "    I0 = I0n\n",
    "    \n",
    "    # a is hard coded above\n",
    "    #a = (Kv - Vocn/Tn) / (Ns * Vtn * (Ki/Ipvn - 3./Tn - Egap/(k*(Tn**2))))\n",
    "    \n",
    "    Rp = Vmp * (Vmp + Imp*Rs) / (Vmp * Ipv - Vmp* I0 * math.exp((Vmp+Imp*Rs)/Vt/Ns/a)+Vmp*I0-Pmax_e)\n",
    "    \n",
    "    _i = i[0]\n",
    "    for idx in range(len(v)):\n",
    "        _v = v[idx]\n",
    "        _g = Ipv - I0 * (math.exp((_v + _i*Rs)/Vt/Ns/a)-1) - (_v + _i*Rs)/Rp - _i\n",
    "        while abs(_g) > err:\n",
    "            itr1 += 1\n",
    "            _g = Ipv - I0 * (math.exp((_v + _i*Rs)/Vt/Ns/a)-1) - (_v + _i*Rs)/Rp - _i\n",
    "            _glin = -I0 * Rs/Vt/Ns/a * math.exp((_v + _i*Rs)/Vt/Ns/a) - Rs/Rp - 1\n",
    "            _i = _i - _g/_glin\n",
    "            i[idx] = _i\n",
    "     \n",
    "    P = np.zeros_like(v)\n",
    "    \n",
    "    for idx1 in range(len(v)):\n",
    "        P[idx1] = v[idx1] * i[idx1]\n",
    "    P_idx = np.argmax(P)\n",
    "    Pmax_m = P[P_idx]\n",
    "    \n",
    "    p_dif = Pmax_m - Pmax_e\n",
    "    itr += 1\n",
    "print(Rs, Rp, a)\n",
    "print(Pmax_m, p_dif)"
   ]
  },
  {
   "cell_type": "markdown",
   "id": "taken-juice",
   "metadata": {},
   "source": [
    "### Output (non-iterative a)\n",
    "\n",
    "Rs = 0.371, Rp = 586.75, Pmax_m = 246.82036, Pmax_e = 246.82, p_dif = 0.00036, a = 1\n",
    "\n",
    "### Output (iterative a)\n",
    "Rs = 0.363, Rp = 705.275, Pmax_m = 246.8207, Pmax_e = 246.82, p_dif = 0.00072, a = 1.0205144336274015"
   ]
  },
  {
   "cell_type": "code",
   "execution_count": 16,
   "id": "portuguese-young",
   "metadata": {},
   "outputs": [
    {
     "name": "stdout",
     "output_type": "stream",
     "text": [
      "0.301 175.67888113901455 1.078858619204327\n"
     ]
    },
    {
     "data": {
      "image/png": "[encoded data removed]",
      "text/plain": [
       "<Figure size 432x288 with 1 Axes>"
      ]
     },
     "metadata": {
      "needs_background": "light"
     },
     "output_type": "display_data"
    },
    {
     "data": {
      "image/png": "[encoded data removed]",
      "text/plain": [
       "<Figure size 432x288 with 1 Axes>"
      ]
     },
     "metadata": {
      "needs_background": "light"
     },
     "output_type": "display_data"
    },
    {
     "name": "stdout",
     "output_type": "stream",
     "text": [
      "Maximum Power: 200.1335633429264\n",
      "Maximum v, i: 26.300000000000004 , 7.60964119174625\n"
     ]
    }
   ],
   "source": [
    "# utilize PvModel class to intialize model and plot IV and PV curves\n",
    "\n",
    "pv_mod = pv_model_class.PvModel(Iscn, Vocn, Imp, Vmp, Kv, Ki, Ns, Gn, Tn, Egap, 0.0001)\n",
    "Rs, Rp, a = pv_mod.find_resistors()\n",
    "print(Rs, Rp, a)\n",
    "v, i, P = pv_mod.power(Rs, Rp, a)\n",
    "\n",
    "pv_mod._plot(v, i, 'Voltage', 'Current', 'IV curve')\n",
    "pv_mod._plot(v, P, 'Voltage', 'Power', 'PV curve')\n",
    "P_max = np.argmax(P)\n",
    "print('Maximum Power:', P[P_max])\n",
    "print('Maximum v, i:', v[P_max],\",\",i[P_max])"
   ]
  },
  {
   "cell_type": "code",
   "execution_count": null,
   "id": "enhanced-norfolk",
   "metadata": {},
   "outputs": [],
   "source": [
    "# plot IV curve\n",
    "fig1 = plt.figure(1)\n",
    "plt.plot(v, i)\n",
    "plt.xlabel('Voltage')\n",
    "plt.ylabel('Current')\n",
    "plt.title('IV curve')\n",
    "plt.show()"
   ]
  },
  {
   "cell_type": "code",
   "execution_count": null,
   "id": "furnished-steering",
   "metadata": {},
   "outputs": [],
   "source": [
    "# plot PV curve\n",
    "fig2 = plt.figure(1)\n",
    "plt.plot(v, P)\n",
    "plt.title('PV curve')\n",
    "plt.xlabel('Voltage')\n",
    "plt.ylabel('Power')\n",
    "plt.show()"
   ]
  },
  {
   "cell_type": "code",
   "execution_count": null,
   "id": "guilty-spyware",
   "metadata": {},
   "outputs": [],
   "source": [
    "# plot IV and PV curves on shared x-axis\n",
    "fig1 = plt.figure(2)\n",
    "plt.title('PV and IV curves')\n",
    "\n",
    "ax1 = fig1.add_subplot(1,1,1)\n",
    "plt.plot(v, i, 'b')\n",
    "plt.ylabel('Current', color='b')\n",
    "\n",
    "ax2 = ax1.twinx()\n",
    "plt.plot(v, P,'g')\n",
    "plt.ylabel('Power', color='g')\n",
    "plt.xlabel('Voltage')\n",
    "\n",
    "plt.show()"
   ]
  },
  {
   "cell_type": "markdown",
   "id": "unlimited-benefit",
   "metadata": {},
   "source": [
    "### Next steps:\n",
    "\n",
    "Check values to the Villalva paper -- why are they so much larger?\n",
    "<br>\n",
    "Finalize plotting function, add in subplot functionality?\n",
    "<br>\n",
    "Clean up how variables are set in code and each function, including how data is loaded in"
   ]
  },
  {
   "cell_type": "code",
   "execution_count": null,
   "id": "directed-casting",
   "metadata": {},
   "outputs": [],
   "source": []
  }
 ],
 "metadata": {
  "kernelspec": {
   "display_name": "Python 3",
   "language": "python",
   "name": "python3"
  },
  "language_info": {
   "codemirror_mode": {
    "name": "ipython",
    "version": 3
   },
   "file_extension": ".py",
   "mimetype": "text/x-python",
   "name": "python",
   "nbconvert_exporter": "python",
   "pygments_lexer": "ipython3",
   "version": "3.8.5"
  }
 },
 "nbformat": 4,
 "nbformat_minor": 5
}
