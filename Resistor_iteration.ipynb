{
 "cells": [
  {
   "cell_type": "code",
   "execution_count": 23,
   "id": "loaded-promotion",
   "metadata": {},
   "outputs": [],
   "source": [
    "%matplotlib inline\n",
    "import math\n",
    "import numpy as np\n",
    "import matplotlib.pyplot as plt\n",
    "import pv_model_210131 as pv\n",
    "import pv_model_class"
   ]
  },
  {
   "cell_type": "code",
   "execution_count": 24,
   "id": "ideal-proceeding",
   "metadata": {},
   "outputs": [],
   "source": [
    "Iscn = 8.7 # nominal short circuit current\n",
    "Vocn = 37.7 # nominal open circuit voltage\n",
    "Imp = 8.2 # array current at MPP\n",
    "Vmp = 30.1 # array voltage at MPP\n",
    "Pmax_e = Vmp * Imp # experimental array max power output\n",
    "Kv = -0.32/100 * Vocn # voltage temperature coefficient\n",
    "Ki = -0.032/100 * Iscn # current temperature coefficient\n",
    "Ns = 60. # number of series cells\n",
    "Gn = 1000. # nominal irradiance\n",
    "Tn = 25. + 273.15 # nominal operating temperature\n",
    "\n",
    "Egap = 1.8 * 10 ** -19 # Bandgap of silicon (silicio cristalino)\n",
    "\n",
    "q = 1.602 * 10 ** -19 # charge on electron\n",
    "k = 1.3806503 * 10 ** -23 # boltzmann constant\n",
    "err = 0.001\n"
   ]
  },
  {
   "cell_type": "code",
   "execution_count": 49,
   "id": "regulated-police",
   "metadata": {},
   "outputs": [
    {
     "name": "stdout",
     "output_type": "stream",
     "text": [
      "1.0205144336274015\n",
      "0.363\n",
      "705.2753571978876\n",
      "246.82072365239517 246.82\n",
      "0.000723652395180352\n"
     ]
    }
   ],
   "source": [
    "\n",
    "G = Gn \n",
    "T = Tn \n",
    "Vtn = k * Tn / q\n",
    "Vt = k * T / q\n",
    "deltaT = T - Tn\n",
    "a = 1\n",
    "\n",
    "Rs_max = (Vocn - Vmp) / Imp\n",
    "Rp_min = Vmp / (Iscn - Imp) - Rs_max\n",
    "\n",
    "Rp = Rp_min\n",
    "Rs_vals = np.arange(0, Rs_max, 0.001)\n",
    "itr = 0\n",
    "v = np.arange(0.1, Vocn, 0.1)\n",
    "#i = np.arange(Iscn, 0, -0.1)\n",
    "i = np.zeros_like(v)\n",
    "\n",
    "p_dif = Pmax_e\n",
    "Rp_prev = Rp\n",
    "\n",
    "while p_dif >= err and itr < len(v):\n",
    "    #print(\"outer\")\n",
    "    Rs = Rs_vals[itr]\n",
    "    \n",
    "    Ipvn = Iscn * (Rs+Rp)/Rp \n",
    "    Ipv = (Ipvn + Ki*deltaT) * G/Gn\n",
    "    Isc = (Iscn + Ki*deltaT) * G/Gn\n",
    "    I0n = (Ipv - Vocn/Rp) / (math.exp(Vocn/Vt/a/Ns)-1)\n",
    "    I0 = I0n\n",
    "    \n",
    "    a = (Kv - Vocn/Tn) / (Ns * Vtn * (Ki/Ipvn - 3./Tn - Egap/(k*(Tn**2))))\n",
    "    \n",
    "    Rp = Vmp * (Vmp + Imp*Rs) / (Vmp * Ipv - Vmp* I0 * math.exp((Vmp+Imp*Rs)/Vt/Ns/a)+Vmp*I0-Pmax_e)\n",
    "    \n",
    "    _i = i[0]\n",
    "    for idx in range(len(v)):\n",
    "        _v = v[idx]\n",
    "        _g = Ipv - I0 * (math.exp((_v + _i*Rs)/Vt/Ns/a)-1) - (_v + _i*Rs)/Rp - _i\n",
    "        while abs(_g) > err:\n",
    "            _g = Ipv - I0 * (math.exp((_v + _i*Rs)/Vt/Ns/a)-1) - (_v + _i*Rs)/Rp - _i\n",
    "            _glin = -I0 * Rs/Vt/Ns/a * math.exp((_v + _i*Rs)/Vt/Ns/a) - Rs/Rp - 1\n",
    "            _i = _i - _g/_glin\n",
    "            i[idx] = _i\n",
    "     \n",
    "    P = np.zeros_like(v)\n",
    "    for idx1 in range(len(v)):\n",
    "        _v = v[idx1]\n",
    "        _i = i[idx1]\n",
    "        _p = (Ipv - I0 * (math.exp((_v + _i*Rs)/Vt/Ns/a)-1)-(_v + _i*Rs)/Rp)*_v\n",
    "        P[idx1] = _p\n",
    "    P_idx = np.argmax(P)\n",
    "    Pmax_m = P[P_idx]\n",
    "    \n",
    "    p_dif = Pmax_m - Pmax_e\n",
    "    itr += 1\n",
    "\n",
    "print(a)\n",
    "print(Rs)\n",
    "print(Rp)\n",
    "print(Pmax_m, Pmax_e)\n",
    "print(p_dif)"
   ]
  },
  {
   "cell_type": "markdown",
   "id": "taken-juice",
   "metadata": {},
   "source": [
    "### Output (non-iterative a)\n",
    "\n",
    "Rs = 0.371, Rp = 586.75, Pmax_m = 246.82036, Pmax_e = 246.82, p_dif = 0.00036, a = 1\n",
    "\n",
    "### Output (iterative a)\n",
    "Rs = 0.363, Rp = 705.275, Pmax_m = 246.8207, Pmax_e = 246.82, p_dif = 0.00072, a = 1.0205144336274015"
   ]
  },
  {
   "cell_type": "code",
   "execution_count": 25,
   "id": "portuguese-young",
   "metadata": {},
   "outputs": [
    {
     "ename": "TypeError",
     "evalue": "__init__() takes 1 positional argument but 12 were given",
     "output_type": "error",
     "traceback": [
      "\u001b[0;31m---------------------------------------------------------------------------\u001b[0m",
      "\u001b[0;31mTypeError\u001b[0m                                 Traceback (most recent call last)",
      "\u001b[0;32m<ipython-input-25-3ba15cdb28cc>\u001b[0m in \u001b[0;36m<module>\u001b[0;34m\u001b[0m\n\u001b[0;32m----> 1\u001b[0;31m \u001b[0mpv_mod\u001b[0m \u001b[0;34m=\u001b[0m \u001b[0mpv_model_class\u001b[0m\u001b[0;34m.\u001b[0m\u001b[0mPvModel\u001b[0m\u001b[0;34m(\u001b[0m\u001b[0mIscn\u001b[0m\u001b[0;34m,\u001b[0m \u001b[0mVocn\u001b[0m\u001b[0;34m,\u001b[0m \u001b[0mImp\u001b[0m\u001b[0;34m,\u001b[0m \u001b[0mVmp\u001b[0m\u001b[0;34m,\u001b[0m \u001b[0mKv\u001b[0m\u001b[0;34m,\u001b[0m \u001b[0mKi\u001b[0m\u001b[0;34m,\u001b[0m \u001b[0mNs\u001b[0m\u001b[0;34m,\u001b[0m \u001b[0mGn\u001b[0m\u001b[0;34m,\u001b[0m \u001b[0mTn\u001b[0m\u001b[0;34m,\u001b[0m \u001b[0mEgap\u001b[0m\u001b[0;34m,\u001b[0m \u001b[0merr\u001b[0m\u001b[0;34m)\u001b[0m\u001b[0;34m\u001b[0m\u001b[0;34m\u001b[0m\u001b[0m\n\u001b[0m\u001b[1;32m      2\u001b[0m \u001b[0mpv_mod\u001b[0m\u001b[0;34m.\u001b[0m\u001b[0mfind_resistors\u001b[0m\u001b[0;34m(\u001b[0m\u001b[0;34m)\u001b[0m\u001b[0;34m\u001b[0m\u001b[0;34m\u001b[0m\u001b[0m\n",
      "\u001b[0;31mTypeError\u001b[0m: __init__() takes 1 positional argument but 12 were given"
     ]
    }
   ],
   "source": [
    "pv_mod = pv_model_class.PvModel(Iscn, Vocn, Imp, Vmp, Kv, Ki, Ns, Gn, Tn, Egap, err)\n",
    "pv_mod.find_resistors()"
   ]
  },
  {
   "cell_type": "code",
   "execution_count": null,
   "id": "enhanced-norfolk",
   "metadata": {},
   "outputs": [],
   "source": []
  }
 ],
 "metadata": {
  "kernelspec": {
   "display_name": "Python 3",
   "language": "python",
   "name": "python3"
  },
  "language_info": {
   "codemirror_mode": {
    "name": "ipython",
    "version": 3
   },
   "file_extension": ".py",
   "mimetype": "text/x-python",
   "name": "python",
   "nbconvert_exporter": "python",
   "pygments_lexer": "ipython3",
   "version": "3.8.5"
  }
 },
 "nbformat": 4,
 "nbformat_minor": 5
}
