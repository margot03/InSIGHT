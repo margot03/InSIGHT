{
 "cells": [
  {
   "cell_type": "code",
   "execution_count": 1,
   "id": "loaded-promotion",
   "metadata": {},
   "outputs": [],
   "source": [
    "%matplotlib inline\n",
    "import math\n",
    "import numpy as np\n",
    "import matplotlib.pyplot as plt\n",
    "import pv_model_210131 as pv\n"
   ]
  },
  {
   "cell_type": "code",
   "execution_count": 22,
   "id": "ideal-proceeding",
   "metadata": {},
   "outputs": [],
   "source": [
    "Iscn = 8.7 # nominal short circuit current\n",
    "Vocn = 37.7 # nominal open circuit voltage\n",
    "Imp = 8.2 # array current at MPP\n",
    "Vmp = 30.1 # array voltage at MPP\n",
    "Pmax_e = Vmp * Imp # experimental array max power output\n",
    "Kv = -0.32/100 * Vocn # voltage temperature coefficient\n",
    "Ki = -0.032/100 * Iscn # current temperature coefficient\n",
    "Ns = 60. # number of series cells\n",
    "Gn = 1000. # nominal irradiance\n",
    "Tn = 25. + 273.15 # nominal operating temperature\n",
    "\n",
    "Egap = math.pow(1.8, -19) # Bandgap of silicon (silicio cristalino)\n",
    "\n",
    "q = 1.602 * math.pow(10, -19) # charge on electron\n",
    "k = 1.3806503 * math.pow(10, -23) # boltzmann constant\n"
   ]
  },
  {
   "cell_type": "code",
   "execution_count": 3,
   "id": "static-cambodia",
   "metadata": {},
   "outputs": [],
   "source": [
    "# I_i is the value of I at the current index (if I is an array)\n",
    "\n",
    "# non-ideal current equation\n",
    "def current(Ipv, I0, I_i, V, Vt, a, Rs, Rp):\n",
    "    \n",
    "    I = Ipv - I0*(math.exp((V+Rs*I_i)/(Vt*a)-1)) - (V+Rs*I_i)/Rp\n",
    "    \n",
    "    return I"
   ]
  },
  {
   "cell_type": "code",
   "execution_count": 28,
   "id": "regulated-police",
   "metadata": {},
   "outputs": [
    {
     "name": "stdout",
     "output_type": "stream",
     "text": [
      "0.23\n",
      "-260.5102369299987 -254.8331058620677\n",
      "246.82 246.82\n",
      "0.0\n"
     ]
    }
   ],
   "source": [
    "\n",
    "G = Gn \n",
    "T = Tn \n",
    "Vtn = k * Tn / q\n",
    "Vt = k * T / q\n",
    "deltaT = T - Tn\n",
    "a = 1\n",
    "\n",
    "Rs_max = (Vocn - Vmp) / Imp\n",
    "Rp_min = Vmp / (Iscn - Imp) - Rs_max\n",
    "\n",
    "Rp = Rp_min\n",
    "Rs_vals = np.arange(0, Rs_max, 0.001)\n",
    "itr = 0\n",
    "v = np.arange(0.1, Vocn, 0.1)\n",
    "#i = np.arange(Iscn, 0, -0.1)\n",
    "i = np.zeros_like(v)\n",
    "\n",
    "err = 0.001\n",
    "p_dif = Pmax_e\n",
    "Rp_prev = Rp\n",
    "\n",
    "while p_dif >= err and itr < len(v):\n",
    "    #print(\"outer\")\n",
    "    Rs = Rs_vals[itr]\n",
    "    Rs_prev = Rs\n",
    "    \n",
    "    Ipvn = Iscn * (Rs+Rp)/Rp \n",
    "    Ipv = (Ipvn + Ki*deltaT) * G/Gn\n",
    "    Isc = (Iscn + Ki*deltaT) * G/Gn\n",
    "    I0n = (Ipv - Vocn/Rp) / (math.exp(Vocn/Vt/a/Ns)-1)\n",
    "    I0 = I0n\n",
    "    \n",
    "    a = (Kv - Vocn/Tn) / (Ns * Vtn * (Ki/Ipvn - 3./Tn - Egap/(k*math.pow(Tn, 2.))))\n",
    "    a = a * math.pow(10, 14)\n",
    "    \n",
    "    Rp_prev = Rp\n",
    "    Rp = Vmp * (Vmp + Imp*Rs) / (Vmp * Ipv - Vmp* I0 * math.exp((Vmp+Imp*Rs)/Vt/Ns/a)+Vmp*I0-Pmax_e)\n",
    "    \n",
    "    _i = i[0]\n",
    "    for idx in range(len(v)):\n",
    "        _v = v[idx]\n",
    "        _g = Ipv - I0 * (math.exp((_v + _i*Rs)/Vt/Ns/a)-1) - (_v + _i*Rs)/Rp - _i\n",
    "        while abs(_g) > err:\n",
    "            _g = Ipv - I0 * (math.exp((_v + _i*Rs)/Vt/Ns/a)-1) - (_v + _i*Rs)/Rp - _i\n",
    "            _glin = -I0 * Rs/Vt/Ns/a * math.exp((_v + _i*Rs)/Vt/Ns/a) - Rs/Rp - 1\n",
    "            _i = _i - _g/_glin\n",
    "            i[idx] = _i\n",
    "     \n",
    "    P = np.zeros_like(v)\n",
    "    for idx1 in range(len(v)):\n",
    "        _v = v[idx1]\n",
    "        _i = i[idx1]\n",
    "        _p = (Ipv - I0 * (math.exp((_v + _i*Rs)/Vt/Ns/a)-1)-(_v + _i*Rs)/Rp)*_v\n",
    "        P[idx1] = _p\n",
    "    P_idx = np.argmax(P)\n",
    "    Pmax_m = P[P_idx]\n",
    "    \n",
    "    p_dif = Pmax_m - Pmax_e\n",
    "    itr += 1\n",
    "\n",
    "print(Rs_prev)\n",
    "print(Rp_prev, Rp)\n",
    "print(Pmax_m, Pmax_e)\n",
    "print(p_dif)"
   ]
  },
  {
   "cell_type": "markdown",
   "id": "taken-juice",
   "metadata": {},
   "source": [
    "### Output\n",
    "\n",
    "Rs = 0.371,\n",
    "Rp = 586.75,\n",
    "Pmax_m = 246.82036,\n",
    "Pmax_e = 246.82,\n",
    "p_dif = 0.00036\n",
    "\n",
    "### Ongoing problems\n",
    "a seems to be scaled by 10^-14 somewhere..."
   ]
  },
  {
   "cell_type": "code",
   "execution_count": null,
   "id": "musical-supervision",
   "metadata": {},
   "outputs": [],
   "source": []
  }
 ],
 "metadata": {
  "kernelspec": {
   "display_name": "Python 3",
   "language": "python",
   "name": "python3"
  },
  "language_info": {
   "codemirror_mode": {
    "name": "ipython",
    "version": 3
   },
   "file_extension": ".py",
   "mimetype": "text/x-python",
   "name": "python",
   "nbconvert_exporter": "python",
   "pygments_lexer": "ipython3",
   "version": "3.8.5"
  }
 },
 "nbformat": 4,
 "nbformat_minor": 5
}
