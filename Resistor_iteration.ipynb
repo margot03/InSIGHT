{
 "cells": [
  {
   "cell_type": "code",
   "execution_count": 2,
   "id": "loaded-promotion",
   "metadata": {},
   "outputs": [],
   "source": [
    "%matplotlib inline\n",
    "import math\n",
    "import numpy as np\n",
    "import matplotlib.pyplot as plt\n",
    "import pv_model_210131 as pv\n"
   ]
  },
  {
   "cell_type": "code",
   "execution_count": 3,
   "id": "ideal-proceeding",
   "metadata": {},
   "outputs": [],
   "source": [
    "Iscn = 8.7 # nominal short circuit current\n",
    "Vocn = 37.7 # nominal open circuit voltage\n",
    "Imp = 8.2 # array current at MPP\n",
    "Vmp = 30.1 # array voltage at MPP\n",
    "Pmax_e = Vmp * Imp # experimental array max power output\n",
    "Kv = -0.0032 * Vocn # voltage temperature coefficient\n",
    "Ki = -0.0032 * Iscn # current temperature coefficient\n",
    "Ns = 60 # number of series cells\n",
    "Gn = 1000 # nominal irradiance\n",
    "Tn = 25 + 273.15 # nominal operating temperature\n",
    "\n",
    "q = 1.602 * math.pow(10, -19) # charge on electron\n",
    "k = 1.3806503 * math.pow(10, -23) # boltzmann constant\n"
   ]
  },
  {
   "cell_type": "code",
   "execution_count": 9,
   "id": "authentic-passenger",
   "metadata": {},
   "outputs": [],
   "source": [
    "# I_i is the value of I \n",
    "def current(Ipv, I0, I_i, V, Vt, a, Rs, Rp):\n",
    "    # using Iscn in place of I to calculate I\n",
    "    math.exp((V+Rs*I_i)/(Vt*a)-1)\n",
    "    I = Ipv - I0*(math.exp((V+Rs*I_i)/(Vt*a)-1)) - (V+Rs*I_i)/Rp\n",
    "    return I"
   ]
  },
  {
   "cell_type": "code",
   "execution_count": 25,
   "id": "regulated-police",
   "metadata": {},
   "outputs": [
    {
     "name": "stdout",
     "output_type": "stream",
     "text": [
      "less than zero\n",
      "59.27317073170732\n",
      "128.5235702755855 246.82\n"
     ]
    }
   ],
   "source": [
    "\n",
    "G = 500\n",
    "T = 30 + 273.15\n",
    "Vtn = k * Tn / q\n",
    "Vt = k * T / q\n",
    "deltaT = T - Tn\n",
    "a = 1\n",
    "\n",
    "Rs_max = (Vocn - Vmp) / Imp\n",
    "Rp_min = Vmp / (Iscn - Imp) - Rs_max\n",
    "\n",
    "Rp = Rp_min\n",
    "Rs_vals = np.arange(0, Rs_max, 0.001)\n",
    "itr = 0\n",
    "v = np.arange(0, Vocn, 0.1)\n",
    "i = np.arange(Iscn, 0, -0.1)\n",
    "\n",
    "err = 10\n",
    "Rp_prev = Rp\n",
    "\n",
    "for Rs in Rs_vals:\n",
    "    if Rp <= 0:\n",
    "        print('less than zero')\n",
    "        break\n",
    "    V = v[itr]\n",
    "    Ipvn = Iscn * (Rs+Rp)/Rp # why is Ipvn the current through Rp?\n",
    "    Ipv = (Ipvn + Ki*deltaT) * G/Gn\n",
    "    Isc = (Iscn + Ki*deltaT) * G/Gn\n",
    "    I0n = (Ipv - Vocn/Rp) / (math.exp(Vocn/Vt/a/Ns)-1)\n",
    "    I0 = I0n\n",
    "    \n",
    "    Rp_prev = Rp\n",
    "    Rp = Vmp * (Vmp + Imp*Rs) / (Vmp * Ipv - Vmp* I0 * math.exp((Vmp+Imp*Rs)/Vt/Ns/a)+Vmp*I0-Pmax_e)\n",
    "    \n",
    "    I_p = Ipv - I0*(math.exp( q/(k*T)*(Vmp+Rs*Imp)/(a*Ns) - 1 ) - (Vmp+Rs*Imp)/Rp)\n",
    "    Pmax_m = Vmp*I_p\n",
    "    \n",
    "    if abs(Pmax_m - Pmax_e) < err:\n",
    "        break\n",
    "    itr += 1\n",
    "\n",
    "print(Rp_prev)\n",
    "print(Pmax_m, Pmax_e)"
   ]
  },
  {
   "cell_type": "markdown",
   "id": "large-clone",
   "metadata": {},
   "source": [
    "### Problems:\n",
    "    - only using Vmp and Imp previously calculated, should be calculating it every iteration right?\n",
    "    - Rp gets really negative suddenly\n",
    "    - current equation gets out of range pretty fast\n",
    "        - implement Newton-Raphson to calculate I?"
   ]
  },
  {
   "cell_type": "code",
   "execution_count": null,
   "id": "accredited-polyester",
   "metadata": {},
   "outputs": [],
   "source": []
  }
 ],
 "metadata": {
  "kernelspec": {
   "display_name": "Python 3",
   "language": "python",
   "name": "python3"
  },
  "language_info": {
   "codemirror_mode": {
    "name": "ipython",
    "version": 3
   },
   "file_extension": ".py",
   "mimetype": "text/x-python",
   "name": "python",
   "nbconvert_exporter": "python",
   "pygments_lexer": "ipython3",
   "version": "3.8.5"
  }
 },
 "nbformat": 4,
 "nbformat_minor": 5
}
