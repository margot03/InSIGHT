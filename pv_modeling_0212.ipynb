{
 "cells": [
  {
   "cell_type": "code",
   "execution_count": 30,
   "id": "unlimited-costs",
   "metadata": {},
   "outputs": [],
   "source": [
    "%matplotlib inline\n",
    "import math\n",
    "import numpy as np\n",
    "import matplotlib.pyplot as plt\n",
    "import pv_model_210131 as pv\n",
    "# k = boltzmann's constnat = 1.3806503 * 10 ** (-23) J/K\n",
    "# Temperature = 25\n",
    "# Isc = 8.21 A\n",
    "# Voc = 32.9 V\n",
    "# Pmax_e = 200.143 W (used to find Rp iteratively)\n",
    "# Kv = -0.123 V/K (in improved I0 equation)\n",
    "# Ki = 0.0032 A/K (in improved I0 equation)\n",
    "# Ns = 54 (used in Vt equation)\n",
    "\n",
    "Ipvn = 8.214\n",
    "Tn = 25\n",
    "T = 30\n",
    "Gn = 2000\n",
    "G = 1000\n",
    "k = 1.3806503 * math.pow(10, -23) # boltzmann constant\n",
    "q = 1.602 * math.pow(10, -19) # charge on electron\n",
    "Kv = -0.0032 * Vocn # voltage temperature coefficient\n",
    "Ki = -0.0032 * Iscn # current temperature coefficient\n",
    "\n",
    "Iscn = 8.21\n",
    "Vocn = 32.9\n",
    "Vtn = 54 * k * Tn / q\n",
    "bandgap_energy = 1.11"
   ]
  },
  {
   "cell_type": "code",
   "execution_count": 36,
   "id": "published-acceptance",
   "metadata": {},
   "outputs": [],
   "source": [
    "# plots different voltage current pairs on an IV curve\n",
    "def iv_curve(Vocn, Ipv, I0, Tn, a):\n",
    "    v = np.arange(0, Vocn, 0.1)\n",
    "    i = []\n",
    "    a = 1\n",
    "    for V in v:\n",
    "        i.append(pv.current(Ipv, I0, V, Tn, a))\n",
    "    figure = plt.figure(1)\n",
    "    plt.plot(v, i)\n",
    "    plt.show()\n",
    "\n",
    "def pv_current(i_nominal, ki, temp_nominal, temp_actual, irradiation_nominal, irradiation_actual):\n",
    "    delta_temp = temp_nominal - temp_actual\n",
    "    i_current = (i_nominal + ki*delta_temp) * irradiation_actual / irradiation_nominal\n",
    "    return i_current"
   ]
  },
  {
   "cell_type": "code",
   "execution_count": 37,
   "id": "large-electron",
   "metadata": {},
   "outputs": [
    {
     "data": {
      "image/png": "[encoded data removed]",
      "text/plain": [
       "<Figure size 432x288 with 1 Axes>"
      ]
     },
     "metadata": {
      "needs_background": "light"
     },
     "output_type": "display_data"
    },
    {
     "name": "stdout",
     "output_type": "stream",
     "text": [
      "32.800000000000004 4.172680000000001\n",
      "0.023965413115789924 8.100235789662293\n"
     ]
    }
   ],
   "source": [
    "Ipv = pv_current(Ipvn, Ki, Tn, T, Gn, G)\n",
    "I0 = pv.saturation_current(Iscn, Vocn, Vtn, 1.3, Tn, T, bandgap_energy)\n",
    "a = 1\n",
    "fig = iv_curve(Vocn, Ipv, I0, Tn, a)\n",
    "plt.show()\n",
    "\n",
    "v = np.arange(0, Vocn, 0.1)\n",
    "max_p = 0\n",
    "for i in range(len(v)):\n",
    "    V = v[i]\n",
    "    I = pv.current(Ipv, I0, V, Tn, a)\n",
    "    p = v[i]*I\n",
    "    if p > max_p:\n",
    "        Vmp = v[i]\n",
    "        Imp = I\n",
    "        max_p = p\n",
    "print(Vmp, Imp)\n",
    "\n",
    "Rs_max = (Vocn - Vmp) / Imp\n",
    "Rp_min = Vmp / (Iscn - Imp) - Rs_max\n",
    "print(Rs_max, Rp_min)"
   ]
  },
  {
   "cell_type": "markdown",
   "id": "speaking-suggestion",
   "metadata": {},
   "source": [
    "## To Do next:\n",
    "clean up (add descriptive comments including definitions for variables, etc)\n",
    "\n",
    "find real values to test code with\n",
    "\n",
    "change current() to not be only ideal\n",
    "\n",
    "calculate power\n",
    "\n",
    "create PV curve"
   ]
  },
  {
   "cell_type": "code",
   "execution_count": null,
   "id": "false-cement",
   "metadata": {},
   "outputs": [],
   "source": []
  }
 ],
 "metadata": {
  "kernelspec": {
   "display_name": "Python 3",
   "language": "python",
   "name": "python3"
  },
  "language_info": {
   "codemirror_mode": {
    "name": "ipython",
    "version": 3
   },
   "file_extension": ".py",
   "mimetype": "text/x-python",
   "name": "python",
   "nbconvert_exporter": "python",
   "pygments_lexer": "ipython3",
   "version": "3.8.5"
  }
 },
 "nbformat": 4,
 "nbformat_minor": 5
}
