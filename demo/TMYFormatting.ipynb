{
 "cells": [
  {
   "cell_type": "code",
   "execution_count": 1,
   "id": "burning-attendance",
   "metadata": {},
   "outputs": [],
   "source": [
    "## Libraries\n",
    "%matplotlib inline\n",
    "import math\n",
    "import numpy as np\n",
    "import matplotlib.pyplot as plt\n",
    "import pv_model_class\n",
    "import pandas as pd"
   ]
  },
  {
   "cell_type": "code",
   "execution_count": 2,
   "id": "stainless-mitchell",
   "metadata": {},
   "outputs": [],
   "source": [
    "# Constants and variables\n",
    "\n",
    "Iscn = 8.21 # nominal short circuit current\n",
    "Vocn = 32.9 # nominal open circuit voltage\n",
    "Imp = 7.61 # array current at MPP\n",
    "Vmp = 26.3 # array voltage at MPP\n",
    "Pmax_e = Vmp * Imp # experimental array max power output\n",
    "Kv = -0.123 # voltage temperature coefficient\n",
    "Ki = 0.0032 # current temperature coefficient\n",
    "Ns = 54 # number of series cells\n",
    "Gn = 1000. # nominal irradiance\n",
    "G = Gn\n",
    "Tn = 25. + 273.15 # nominal operating temperature\n",
    "T = Tn\n",
    "\n",
    "Egap = 1.8 * 10 ** -19 # Bandgap of silicon (silicio cristalino)\n",
    "\n",
    "err = 0.0001\n",
    "inverter = 0.95\n",
    "array_dim = [1, 1]"
   ]
  },
  {
   "cell_type": "code",
   "execution_count": 4,
   "id": "crazy-colony",
   "metadata": {},
   "outputs": [],
   "source": [
    "df = pd.read_csv('/Users/margotadam/Downloads/43386d97fd77fc514fa97f6166756b56/242127_47.69_-121.10_2015.csv')\n"
   ]
  },
  {
   "cell_type": "code",
   "execution_count": 7,
   "id": "shared-stack",
   "metadata": {},
   "outputs": [
    {
     "data": {
      "text/plain": [
       "'14'"
      ]
     },
     "execution_count": 7,
     "metadata": {},
     "output_type": "execute_result"
    }
   ],
   "source": [
    "new_header = df.iloc[1]\n",
    "tmy = df[2:]\n",
    "tmy.columns = new_header\n",
    "tmy = tmy.dropna(axis=1)\n",
    "tmy['Hour'][30]"
   ]
  },
  {
   "cell_type": "code",
   "execution_count": 8,
   "id": "twelve-consequence",
   "metadata": {},
   "outputs": [],
   "source": [
    "tmy_july = tmy[(tmy['Month'] == '7') & (tmy['Day'] == '3')]\n",
    "tmy_jan = tmy[(tmy['Month'] == '1') & (tmy['Day'] == '2')]\n"
   ]
  },
  {
   "cell_type": "code",
   "execution_count": 11,
   "id": "noble-matter",
   "metadata": {},
   "outputs": [
    {
     "name": "stdout",
     "output_type": "stream",
     "text": [
      "250.4324849782308\n"
     ]
    }
   ],
   "source": [
    "### Equations from Masters textbook (table 4.1 and table 4.2)\n",
    "DNI = int(tmy['DNI'][12795])\n",
    "DHI = int(tmy['DHI'][12795])\n",
    "GHI = int(tmy['GHI'][12795])\n",
    "\n",
    "# ground reflectance\n",
    "rho = 0.2\n",
    "# number of days\n",
    "#month = int(tmy['Month'][12795])\n",
    "#day = int(tmy['Day'][12795])\n",
    "#n = (30*month - 30) + day\n",
    "\n",
    "# calculated by hand for 9/24\n",
    "n = 267\n",
    "# hour\n",
    "hour = int(tmy['Hour'][12795])\n",
    "# latitude\n",
    "lat = 47.69\n",
    "# collector azimuth\n",
    "az_c = 0\n",
    "# collector tilt angle\n",
    "sigma = lat * 0.76 + 3.1\n",
    "# declination\n",
    "decl = 23.45 * np.sin(360/365 * (n - 81))\n",
    "# hour angle\n",
    "H = 15 * (12 - hour)\n",
    "# solar altitude\n",
    "beta = np.arcsin(np.cos(lat) * np.cos(decl) * np.cos(H) + np.sin(lat) * np.sin(decl))\n",
    "# solar azimuth\n",
    "az_s = np.arcsin(np.cos(decl) * np.sin(H) / np.cos(beta))\n",
    "\n",
    "cos_theta = np.cos(beta) * np.cos(az_s - az_c) * np.sin(sigma) + np.sin(beta) * np.cos(sigma)\n",
    "B = DNI * cos_theta\n",
    "D = DHI * (1 + np.cos(sigma)) / 2\n",
    "R = GHI * rho * (1 - np.cos(sigma)) / 2\n",
    "G = B + D + R\n",
    "print(G)"
   ]
  },
  {
   "cell_type": "code",
   "execution_count": 9,
   "id": "august-testament",
   "metadata": {},
   "outputs": [
    {
     "name": "stdout",
     "output_type": "stream",
     "text": [
      "[0.0, 0.0, 0.0, 0.0, 0.0, 0.0, 0.0, 0.0, 0.036874374112418534, 18.874678324745716, 15.690924739526677, 72.0408116258169, 24.73208104704921, 16.538375698519136, 26.69471806669538, 2.0599573028765286, 0.0, 0.0, 0.0, 0.0, 0.0, 0.0, 0.0, 0.0]\n"
     ]
    }
   ],
   "source": [
    "## calculating PV model for consecutive hours throughout a day\n",
    "\n",
    "pv_mod = pv_model_class.PvModel(Iscn, Vocn, Imp, Vmp, Kv, Ki, Ns, Gn, G, Tn, T, Egap, err, inverter, array_dim)\n",
    "# find resistor values and diode ideality constant\n",
    "Rs, Rp, a = pv_mod.find_resistors()\n",
    "# find voltage, current, and power arrays\n",
    "v, i, P = pv_mod.calculate_power(Rs, Rp, a)\n",
    "\n",
    "max_power = []\n",
    "\n",
    "# calculate day number\n",
    "#    7/3 -- 184\n",
    "n = 2\n",
    "# ground reflectance\n",
    "rho = 0.2\n",
    "# latitude\n",
    "lat = 47.69\n",
    "# collector azimuth\n",
    "az_c = 0\n",
    "# collector tilt angle\n",
    "sigma = lat * 0.76 + 3.1\n",
    "\n",
    "for i in range(2, 24*2 + 2, 2):\n",
    "    # shift to get to month of July 3rd\n",
    "    # i += 8786\n",
    "    \n",
    "    # shift to get to Jan 2nd\n",
    "    i += 50\n",
    "    hour = int(tmy['Hour'][i])\n",
    "    \n",
    "    DNI = int(tmy['DNI'][i])\n",
    "    DHI = int(tmy['DHI'][i])\n",
    "    GHI = int(tmy['GHI'][i])\n",
    "    pv_mod.G = pv_mod.find_irradiance(DNI, DHI, GHI, rho, n, hour, lat, az_c, sigma)\n",
    "    \n",
    "    v, i, P = pv_mod.calculate_power(Rs, Rp, a)\n",
    "    max_idx = np.argmax(P)\n",
    "    if P[max_idx] < 0.001:\n",
    "        P[max_idx] = 0\n",
    "    max_power.append(P[max_idx])\n",
    "\n",
    "print(max_power)\n",
    "\n",
    "## if pv array of 3 strings with 2 modules in series per string (6 total)\n",
    "max_power_array = max_power * 6"
   ]
  },
  {
   "cell_type": "code",
   "execution_count": null,
   "id": "ethical-challenge",
   "metadata": {},
   "outputs": [],
   "source": []
  }
 ],
 "metadata": {
  "kernelspec": {
   "display_name": "Python 3",
   "language": "python",
   "name": "python3"
  },
  "language_info": {
   "codemirror_mode": {
    "name": "ipython",
    "version": 3
   },
   "file_extension": ".py",
   "mimetype": "text/x-python",
   "name": "python",
   "nbconvert_exporter": "python",
   "pygments_lexer": "ipython3",
   "version": "3.8.5"
  }
 },
 "nbformat": 4,
 "nbformat_minor": 5
}
